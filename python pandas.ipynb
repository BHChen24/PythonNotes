{
 "cells": [
  {
   "cell_type": "markdown",
   "id": "5c93ba7fd385f37b",
   "metadata": {
    "collapsed": false
   },
   "source": [
    "# python pandas"
   ]
  },
  {
   "cell_type": "code",
   "execution_count": 2,
   "id": "initial_id",
   "metadata": {
    "collapsed": true
   },
   "outputs": [],
   "source": [
    "import os\n",
    "import sys\n",
    "import sysconfig\n",
    "from pathlib import Path\n",
    "import shutil\n",
    "import subprocess\n",
    "import tempfile\n",
    "import json\n",
    "\n",
    "import re\n",
    "import difflib\n",
    "import pypdf\n",
    "import docx\n",
    "import chardet\n",
    "import datetime\n",
    "import dateutil\n",
    "\n",
    "import pandas as pd\n",
    "import numpy as np\n",
    "\n",
    "from pprint import pprint"
   ]
  },
  {
   "cell_type": "markdown",
   "id": "0e6ebd4d",
   "metadata": {},
   "source": [
    "## chardet\n",
    "\n",
    "1. Used for detecting the encoding of CSV files.\n",
    "2. For xls and xlsx files, encoding issues usually don't require much attention because these files use UTF-8 as the standard encoding.\n",
    "3. For csv files, it is often necessary to detect the encoding before reading the file.\n",
    "4. Older xls files may have encoding issues, which can be addressed as they arise."
   ]
  },
  {
   "cell_type": "code",
   "execution_count": 8,
   "id": "84d83c12",
   "metadata": {},
   "outputs": [
    {
     "name": "stdout",
     "output_type": "stream",
     "text": [
      "{'confidence': 1.0, 'encoding': 'ascii', 'language': ''}\n"
     ]
    }
   ],
   "source": [
    "# Simple usage of chardet\n",
    "## The file needs to be opened in binary mode before using the detect method.\n",
    "## ASCII encoded files can be read directly using UTF-8.\n",
    "\n",
    "with open('originalxls.csv', 'rb') as f:\n",
    "    result = chardet.detect(f.read())\n",
    "    pprint(result)"
   ]
  },
  {
   "cell_type": "markdown",
   "id": "1641a167",
   "metadata": {},
   "source": [
    "## pandas\n"
   ]
  },
  {
   "cell_type": "markdown",
   "id": "c5ef4555",
   "metadata": {},
   "source": [
    "### Reading file "
   ]
  },
  {
   "cell_type": "code",
   "execution_count": 25,
   "id": "a4aa02d5",
   "metadata": {},
   "outputs": [
    {
     "name": "stdout",
     "output_type": "stream",
     "text": [
      "        ?? column1 column2 column3\n",
      "0  record1     str      %d      %f\n",
      "1  record2      \\n    str2     NaN\n",
      "2  record3      \\r     NaN    str3\n"
     ]
    }
   ],
   "source": [
    "# csv\n",
    "\n",
    "myPdCsv = pd.read_csv('originalxls.csv', encoding='utf-8')\n",
    "print(myPdCsv)"
   ]
  },
  {
   "cell_type": "code",
   "execution_count": 24,
   "id": "8da883a1",
   "metadata": {},
   "outputs": [
    {
     "name": "stdout",
     "output_type": "stream",
     "text": [
      "        表头  column1  column2  column3\n",
      "0  record1        1        2        3\n",
      "1  record2        4        5        6\n",
      "2  record3        7        8        9\n"
     ]
    }
   ],
   "source": [
    "# excel\n",
    "## No need to specify encoding\n",
    "\n",
    "myPdExcel1 = pd.read_excel('originalxls.xlsx', sheet_name='Sheet1')\n",
    "print(myPdExcel1)"
   ]
  },
  {
   "cell_type": "markdown",
   "id": "cb94da5a",
   "metadata": {},
   "source": [
    "#### Read files on demand"
   ]
  },
  {
   "cell_type": "code",
   "execution_count": 33,
   "id": "3d03fcde",
   "metadata": {},
   "outputs": [
    {
     "name": "stdout",
     "output_type": "stream",
     "text": [
      "{   'Sheet1':         表头  column1  column2  column3\n",
      "0  record1        1        2        3\n",
      "1  record2        4        5        6\n",
      "2  record3        7        8        9,\n",
      "    'Sheet2':         表头  column1  column2  column3\n",
      "0  record1       11     21.0     31.0\n",
      "1  record2       14      NaN      NaN\n",
      "2  record3       17      NaN      NaN,\n",
      "    'Sheet3':         表头 column1 column2 column3\n",
      "0  record1     str      %d      %f\n",
      "1  record2      \\n    str2     NaN\n",
      "2  record3      \\r     NaN    str3}\n",
      "\n",
      "        表头  column1  column2  column3\n",
      "0  record1        1        2        3\n",
      "1  record2        4        5        6\n",
      "2  record3        7        8        9\n"
     ]
    }
   ],
   "source": [
    "# Read all sheets in an xlsx file\n",
    "## Setting the sheet_name parameter to None will read all sheets.\n",
    "## If the sheet_name parameter is not specified, the first sheet will be read by default.\n",
    "## The result is a dictionary where the key is the sheet name and the value is a dataframe.\n",
    "\n",
    "myPdExcelList = pd.read_excel('originalxls.xlsx', sheet_name=None)\n",
    "pprint(myPdExcelList,indent=4)\n",
    "print()\n",
    "print(myPdExcelList['Sheet1'])"
   ]
  },
  {
   "cell_type": "code",
   "execution_count": 21,
   "id": "2e43a74c",
   "metadata": {},
   "outputs": [
    {
     "name": "stdout",
     "output_type": "stream",
     "text": [
      "         column1  column2  column3\n",
      "表头                                \n",
      "record1        1        2        3\n",
      "record2        4        5        6\n",
      "record3        7        8        9\n"
     ]
    }
   ],
   "source": [
    "# Specify column names and index column\n",
    "# Both the header and index_col parameters accept index values\n",
    "## The header parameter specifies the row for the column headers, and index_col specifies the index column. These settings apply to all sheets being read.\n",
    "\n",
    "\n",
    "myPdExcelList2 = pd.read_excel('originalxls.xlsx',sheet_name=None, header=0, index_col=0)\n",
    "pprint(myPdExcelList2['Sheet1'])"
   ]
  },
  {
   "cell_type": "code",
   "execution_count": 2,
   "id": "69b48675",
   "metadata": {},
   "outputs": [
    {
     "name": "stdout",
     "output_type": "stream",
     "text": [
      "         a        b        c        d\n",
      "0       表头  column1  column2  column3\n",
      "1  record1        1        2        3\n",
      "2  record2        4        5        6\n",
      "3  record3        7        8        9\n"
     ]
    }
   ],
   "source": [
    "# By specifying the names parameter, you can define column names\n",
    "## The header parameter should be set to None.\n",
    "\n",
    "\n",
    "myPdExcelList3 = pd.read_excel('originalxls.xlsx', header=None, names=['a', 'b', 'c', 'd'], index_col=None)\n",
    "print(myPdExcelList3)"
   ]
  },
  {
   "cell_type": "markdown",
   "id": "d146d62a",
   "metadata": {},
   "source": [
    "#### tips"
   ]
  },
  {
   "cell_type": "code",
   "execution_count": 29,
   "id": "9286b4e1",
   "metadata": {},
   "outputs": [],
   "source": [
    "## Note: If the column names are set incorrectly, it may lead to unpredictable input and output.\n",
    "\n",
    "\n",
    "myPdExcelList3 = pd.read_excel('originalxls.xlsx', header=None, names=['a', 'b', 'c'], index_col=None) # The original table has 4 columns, but one column name was not specified here.\n"
   ]
  },
  {
   "cell_type": "code",
   "execution_count": 30,
   "id": "38d165ce",
   "metadata": {},
   "outputs": [
    {
     "name": "stdout",
     "output_type": "stream",
     "text": [
      "               a        b        c\n",
      "表头       column1  column2  column3\n",
      "record1        1        2        3\n",
      "record2        4        5        6\n",
      "record3        7        8        9\n"
     ]
    }
   ],
   "source": [
    "## The first column has been used as the index, causing the index_col parameter to be ineffective.\n",
    "\n",
    "\n",
    "print(myPdExcelList3)"
   ]
  },
  {
   "cell_type": "markdown",
   "id": "11be576e",
   "metadata": {},
   "source": [
    "#### json\n",
    "\n",
    "The orient parameter specifies the format of the JSON, commonly using split, records, index, columns, values:\n",
    "\n",
    "Options:\n",
    "'split' : dict like {index -> [index], columns -> [columns], data -> [values]}  \n",
    "例：{'index': [...], 'columns': [...], 'data': [...]}\n",
    "\n",
    "'records' : list like [{column -> value}, ... , {column -> value}]\n",
    "\n",
    "'index' : dict like {index -> {column -> value}}\n",
    "\n",
    "'columns' : dict like {column -> {index -> value}}\n",
    "\n",
    "'values' : just the values array\n",
    "\n",
    "'table' : dict like {'schema': {schema}, 'data': {data}}\n"
   ]
  },
  {
   "cell_type": "code",
   "execution_count": 10,
   "id": "3a9cecfd",
   "metadata": {},
   "outputs": [
    {
     "name": "stdout",
     "output_type": "stream",
     "text": [
      "{'departments': [{'manager': 'John Doe', 'name': 'Sales'},\n",
      "                 {'manager': 'Jane Smith', 'name': 'HR'},\n",
      "                 {'manager': 'Jim Doe', 'name': 'IT'}],\n",
      " 'employees': [{'age': 30, 'department': 'Sales', 'name': 'John Doe'},\n",
      "               {'age': 25, 'department': 'HR', 'name': 'Jane Doe'},\n",
      "               {'age': 35, 'department': 'IT', 'name': 'Jim Doe'}]}\n"
     ]
    }
   ],
   "source": [
    "# Read json\n",
    "\n",
    "pprint(json.load(open('example_data.json')))"
   ]
  },
  {
   "cell_type": "code",
   "execution_count": 13,
   "id": "9fd7b429",
   "metadata": {},
   "outputs": [
    {
     "name": "stdout",
     "output_type": "stream",
     "text": [
      "                                                             0  \\\n",
      "employees    {'name': 'John Doe', 'age': 30, 'department': ...   \n",
      "departments           {'name': 'Sales', 'manager': 'John Doe'}   \n",
      "\n",
      "                                                             1  \\\n",
      "employees    {'name': 'Jane Doe', 'age': 25, 'department': ...   \n",
      "departments            {'name': 'HR', 'manager': 'Jane Smith'}   \n",
      "\n",
      "                                                             2  \n",
      "employees    {'name': 'Jim Doe', 'age': 35, 'department': '...  \n",
      "departments               {'name': 'IT', 'manager': 'Jim Doe'}  \n"
     ]
    }
   ],
   "source": [
    "myPdJson = pd.read_json('example_data.json', orient='index')\n",
    "print(myPdJson)"
   ]
  },
  {
   "cell_type": "code",
   "execution_count": 46,
   "id": "84c25faa",
   "metadata": {},
   "outputs": [
    {
     "name": "stdout",
     "output_type": "stream",
     "text": [
      "Employees DataFrame:\n",
      "       name  age department\n",
      "0  John Doe   30      Sales\n",
      "1  Jane Doe   25         HR\n",
      "2   Jim Doe   35         IT\n",
      "\n",
      "Departments DataFrame:\n",
      "    name     manager\n",
      "0  Sales    John Doe\n",
      "1     HR  Jane Smith\n",
      "2     IT     Jim Doe\n"
     ]
    }
   ],
   "source": [
    "# It was found that the JSON data is nested, which doesn't quite match the orient parameter.\n",
    "## First convert the JSON data into a dictionary, then create dataframes separately.\n",
    "\n",
    "# Load JSON data as a Python dictionary\n",
    "\n",
    "with open('example_data.json', 'r') as file:\n",
    "    data = json.load(file)\n",
    "\n",
    "# Convert a specific part of the data into a DataFrame\n",
    "employees_df = pd.DataFrame(data['employees'])\n",
    "departments_df = pd.DataFrame(data['departments'])\n",
    "\n",
    "# Display the result\n",
    "print(\"Employees DataFrame:\")\n",
    "print(employees_df)\n",
    "print(\"\\nDepartments DataFrame:\")\n",
    "print(departments_df)\n"
   ]
  },
  {
   "cell_type": "markdown",
   "id": "09a96189",
   "metadata": {},
   "source": [
    "#### Accessing SQL\n",
    "\n",
    "Can use `pandas.read_sql` and pass a **query string** and a **database engine** to read data from the database.\n"
   ]
  },
  {
   "cell_type": "markdown",
   "id": "cc4571fa",
   "metadata": {},
   "source": [
    "### Output data to Excel\n",
    "\n",
    "The focus is on exporting data by sheets to Excel.\n",
    "\n",
    "Prototype:\n",
    "DataFrame.to_excel(excel_writer, *, sheet_name='Sheet1', na_rep='', float_format=None, columns=None, header=True, index=True, index_label=None, startrow=0, startcol=0, engine=None, merge_cells=True, inf_rep='inf', freeze_panes=None, storage_options=None, engine_kwargs=None)"
   ]
  },
  {
   "cell_type": "code",
   "execution_count": 49,
   "id": "0ce6f73e",
   "metadata": {},
   "outputs": [],
   "source": [
    "# Specify sheet names when exporting to Excel\n",
    "# Use pd.ExcelWriter to manage this process\n",
    "\n",
    "with pd.ExcelWriter('multiSheetOutput.xlsx') as writer:\n",
    "    employees_df.to_excel(writer, sheet_name='employees', index=False)\n",
    "    departments_df.to_excel(writer, sheet_name='departments', index=False)"
   ]
  },
  {
   "cell_type": "markdown",
   "id": "b3fdc2ef",
   "metadata": {},
   "source": [
    "## 数据类型和结构"
   ]
  },
  {
   "cell_type": "code",
   "execution_count": 2,
   "id": "bcface60",
   "metadata": {},
   "outputs": [
    {
     "name": "stdout",
     "output_type": "stream",
     "text": [
      "{   'Sheet1':         表头  column1  column2  column3\n",
      "0  record1        1        2        3\n",
      "1  record2        4        5        6\n",
      "2  record3        7        8        9,\n",
      "    'Sheet2':         表头  column1  column2  column3\n",
      "0  record1       11     21.0     31.0\n",
      "1  record2       14      NaN      NaN\n",
      "2  record3       17      NaN      NaN,\n",
      "    'Sheet3':         表头 column1 column2 column3\n",
      "0  record1     str      %d      %f\n",
      "1  record2      \\n    str2     NaN\n",
      "2  record3      \\r     NaN    str3}\n"
     ]
    }
   ],
   "source": [
    "myPdExcelList = pd.read_excel('originalxls.xlsx', sheet_name=None)\n",
    "pprint(myPdExcelList,indent=4)\n",
    "sheet1 = myPdExcelList['Sheet1']\n",
    "sheet2 = myPdExcelList['Sheet2']\n",
    "sheet3 = myPdExcelList['Sheet3']"
   ]
  },
  {
   "cell_type": "markdown",
   "id": "887f8eab",
   "metadata": {},
   "source": [
    "### Data Types\n",
    "\n",
    "can use DataFrame_object.dtypes to view data types, which are displayed by column.\n",
    "\n",
    "Main types include:\n",
    "\n",
    "    object: Used for mixed data objects. category: A subclass of object, representing variables with a fixed number of possible values, similar to enums.\n",
    "    Most pandas objects correspond to numpy types, except for object and category.\n",
    "    Numpy integers do not support NaN, but pandas.Int64 (note the uppercase) supports NaN.\n",
    "    Int64, Int32, UInt64, etc., are pandas-extended integer types that can support NaN.\n",
    "    pandas.int8, pandas.int16, pandas.int32, \"pandas.int64\" (double quotes indicate the default type).\n",
    "    pandas.float32, \"pandas.float64\".\n",
    "    datetime64[ns, tz], \"datetime64[ns]\" uses nanoseconds by default, also from numpy. \"timedelta[ns]\" also comes from numpy. Note that since data types can be specified using dtype, datetime64[ns, tz] is useful.\n",
    "    Example: dtype: datetime64[ns, Asia/Shanghai].\n",
    "    It is recommended to use StringDtype for strings, instead of the old object.\n",
    "    Strings can be processed using standard string methods. Common ones include replace(), and don't forget about map() (for series), apply() (works for both series and DataFrame, and can specify rows or columns), and lambda expressions.\n",
    "    Add str before processing strings, e.g., df['A'].str.replace('a', 'b').\n",
    "    Use methods like .astype(\"float32\") for explicit type conversion.\n",
    "    The Dataframe.infer_objects() method can be used to infer the type of object for convenience.\n",
    "    Missing values are of type np.nan."
   ]
  },
  {
   "cell_type": "code",
   "execution_count": 3,
   "id": "1d2385a7",
   "metadata": {},
   "outputs": [
    {
     "data": {
      "text/plain": [
       "表头         object\n",
       "column1     int64\n",
       "column2     int64\n",
       "column3     int64\n",
       "dtype: object"
      ]
     },
     "execution_count": 3,
     "metadata": {},
     "output_type": "execute_result"
    }
   ],
   "source": [
    "# Check the data type of each column\n",
    "\n",
    "sheet1.dtypes"
   ]
  },
  {
   "cell_type": "code",
   "execution_count": 6,
   "id": "a86f4b76",
   "metadata": {},
   "outputs": [
    {
     "name": "stdout",
     "output_type": "stream",
     "text": [
      "<class 'pandas.core.dtypes.dtypes.DatetimeTZDtype'>\n"
     ]
    },
    {
     "data": {
      "text/plain": [
       "datetime64[ns, Asia/Shanghai]"
      ]
     },
     "execution_count": 6,
     "metadata": {},
     "output_type": "execute_result"
    }
   ],
   "source": [
    "# You can directly specify the data type of a variable (even though the variable contains no data).\n",
    "\n",
    "\n",
    "a = pd.DatetimeTZDtype(\"ns\",tz=\"Asia/Shanghai\")\n",
    "print(type(a))\n",
    "pd.Series(['20200501 22:23:22.3432'], dtype=a).dtypes"
   ]
  },
  {
   "cell_type": "markdown",
   "id": "af00a9fe",
   "metadata": {},
   "source": [
    "### series\n",
    "\n",
    "1. When specifying `index=`, it must match the length of the data (it can be an iterator).\n",
    "2. If the `index` exceeds the data length, the `data` will be automatically filled.\n",
    "3. You can specify `name`.\n"
   ]
  },
  {
   "cell_type": "code",
   "execution_count": 17,
   "id": "86dc5458",
   "metadata": {},
   "outputs": [
    {
     "data": {
      "text/plain": [
       "a    5.0\n",
       "b    5.0\n",
       "c    5.0\n",
       "d    5.0\n",
       "e    5.0\n",
       "Name: test, dtype: float64"
      ]
     },
     "execution_count": 17,
     "metadata": {},
     "output_type": "execute_result"
    }
   ],
   "source": [
    "# If the index exceeds the data length, it will be automatically filled.\n",
    "## Also, specify the name.\n",
    "\n",
    "pd.Series(5.0, index=[\"a\", \"b\", \"c\", \"d\", \"e\"], name=\"test\")"
   ]
  },
  {
   "cell_type": "markdown",
   "id": "540536d1",
   "metadata": {},
   "source": [
    "### dataframe"
   ]
  },
  {
   "cell_type": "markdown",
   "id": "0a8a470d",
   "metadata": {},
   "source": [
    "#### Series, DataFrame, and Matrix\n",
    "\n",
    "1. First, a DataFrame is made up of Series, so each column can be extracted separately to form an array[].\n",
    "2. Don’t be confused by how numpy and pandas represent matrices—they both default to forming matrices by combining column vectors and provide methods to extract columns. You only need to focus on how to manipulate them.\n",
    "3. If the matrix isn’t in the desired form, you can use `transpose()` or simply `T` to transpose it.\n"
   ]
  },
  {
   "cell_type": "code",
   "execution_count": 15,
   "id": "82bee4fe",
   "metadata": {},
   "outputs": [
    {
     "name": "stdout",
     "output_type": "stream",
     "text": [
      "   col1  col2\n",
      "0     1     4\n",
      "1     2     5\n",
      "2     3     6\n",
      "\n",
      "   a  b  c\n",
      "0  1  2  3\n",
      "1  4  5  6\n",
      "\n",
      "   0  1\n",
      "a  1  4\n",
      "b  2  5\n",
      "c  3  6\n"
     ]
    }
   ],
   "source": [
    "import pandas as pd\n",
    "\n",
    "# Column Vector\n",
    "col_vector1 = [1, 2, 3]\n",
    "col_vector2 = [4, 5, 6]\n",
    "\n",
    "# Combine into a DataFrame, with each list becoming a column.\n",
    "\n",
    "df = pd.DataFrame({'col1': col_vector1, 'col2': col_vector2})\n",
    "df2 = pd.DataFrame([col_vector1, col_vector2], columns=['a', 'b', 'c'])\n",
    "df2t = df2.T\n",
    "print(df)\n",
    "print()\n",
    "print(df2)\n",
    "print()\n",
    "print(df2t)"
   ]
  },
  {
   "cell_type": "code",
   "execution_count": null,
   "id": "1cc3d612",
   "metadata": {},
   "outputs": [],
   "source": [
    "# Intuitive construction method\n",
    "\n",
    "df = pd.DataFrame({'A': [1, 2, 3],\n",
    "                    'B': [4, 5, 6],\n",
    "                    'C': [7, 8, 9]})"
   ]
  },
  {
   "cell_type": "markdown",
   "id": "57dbfc3e",
   "metadata": {},
   "source": [
    "#### Axis Direction\n",
    "\n",
    "1. In numpy, since it can handle multi-dimensional arrays, the axis parameter can be greater than or equal to 2. The order of the axis parameter typically represents the **scope of the unit**, from outer to inner.\n",
    "2. For example, in a three-dimensional array, `axis=0` represents the largest scope, which is each array itself, `axis=1` represents the rows within each array, and `axis=2` represents the elements within each row of the array.\n",
    "3. In a two-dimensional array, `axis=0` refers to rows, which looks like you are processing **columns**; `axis=1` refers to elements within each row, which looks like you are processing **rows**.\n",
    "4. Think about it: myArray[0][1] naturally refers to the **first row** and the **second element**. Therefore, `axis=0` means **processing in the direction extending along rows**, and `axis=1` means processing in the direction of elements, **extending along the elements**.\n"
   ]
  },
  {
   "cell_type": "markdown",
   "id": "2ddf62a8",
   "metadata": {},
   "source": [
    "### Copy\n",
    "\n",
    "1. If you need another copy, don’t assign it directly to another variable, as this will only **link** the two variables.\n",
    "2. Use pandas’ built-in `copy()` method. You can specify the `deep=` parameter, which is `True` by default.\n"
   ]
  },
  {
   "cell_type": "markdown",
   "id": "41e06083",
   "metadata": {},
   "source": [
    "## Structural Operations"
   ]
  },
  {
   "cell_type": "markdown",
   "id": "b2d9f778",
   "metadata": {},
   "source": [
    "### Value Selection and Slicing Rules\n",
    "\n",
    "General rule: **Single value** selection uses single brackets, **multiple value** selection uses double brackets. Slicing is generally allowed wherever you can pass an index, and both names and numbers can be used for slicing.\n",
    "\n",
    "1. `df` allows column selection using `df['column']` or `df.column`, returning a series.\n",
    "2. To select multiple columns in `df`, double brackets are required: `df[['column1', 'column2']]`, which returns a **dataframe**.\n",
    "   1. When swapping columns, `df[['B', 'A']] = df[['A', 'B']]` is quite useful.\n",
    "3. Slicing with `df[]` actually returns rows, like `df[0:1]`, `df['a':'b']`.\n",
    "   1. `s[]` and `s.loc[]` are basically the same.\n",
    "4. My suggestion is to use `loc` and `iloc` for DataFrame indexing, bury those who directly select values, and half-bury those who select columns using attributes.\n",
    "   1. Writing like `df[:,]` is pretty much a death sentence.\n",
    "5. Use `loc[]` to select by name and `iloc[]` to select by position. The order is `[row, column]` (**emphasizing again, `loc` and `iloc` should use [] brackets**).\n",
    "   1. `loc` and `iloc` support coordinate indexing: `df.loc['index', 'column']`.\n",
    "   2. To select multiple values: `df.iloc[[1, 3, 5], [1, 3]]`: retrieves the intersections of rows 1, 3, 5 and columns 1, 3.\n",
    "   3. `iloc` supports slicing: `df.iloc[0:2, 0:2]`; `loc` also supports slicing: `df.loc['a':'b', 'A':'B']`.\n",
    "   4. Since `loc[]` supports boolean indexing, you can filter like this: `loc[s.apply(lambda x: x % 2 == 0)]`.\n",
    "      1. `s[s.isin([2, 4, 6])]` is very useful.\n",
    "   5. They both support passing a function, so you can retrieve values like this: `df.loc[lambda df: df['A'] > 0]`.\n",
    "6. Reverse and step slicing uses the third position in `:`: `df.iloc[::-1]`, `df.iloc[::-2]`.\n",
    "7. `at` and `iat` are used for selecting single values by passing a coordinate tuple. They are essentially similar to `loc` and `iloc`, but a bit faster.\n",
    "8. `NaN` is less than 0.\n",
    "9. Use `.drop()` to remove specific rows or columns, and you can specify the `axis` parameter.\n",
    "\n"
   ]
  },
  {
   "cell_type": "markdown",
   "id": "87aeccc1",
   "metadata": {},
   "source": [
    "#### series and pd example"
   ]
  },
  {
   "cell_type": "code",
   "execution_count": 2,
   "id": "760d9a65",
   "metadata": {},
   "outputs": [
    {
     "name": "stdout",
     "output_type": "stream",
     "text": [
      "      Name  Age         City  Salary\n",
      "A    Alice   25     New York   60000\n",
      "B      Bob   30  Los Angeles   70000\n",
      "C  Charlie   35      Chicago   80000\n",
      "D    David   40      Houston   90000\n",
      "E      Eve   45      Phoenix  100000\n"
     ]
    }
   ],
   "source": [
    "\n",
    "data = {\n",
    "    'Name': ['Alice', 'Bob', 'Charlie', 'David', 'Eve'],\n",
    "    'Age': [25, 30, 35, 40, 45],\n",
    "    'City': ['New York', 'Los Angeles', 'Chicago', 'Houston', 'Phoenix'],\n",
    "    'Salary': [60000, 70000, 80000, 90000, 100000]\n",
    "}\n",
    "\n",
    "df = pd.DataFrame(data, index=['A', 'B', 'C', 'D', 'E'])\n",
    "\n",
    "print(df)\n"
   ]
  },
  {
   "cell_type": "code",
   "execution_count": 29,
   "id": "79086a43",
   "metadata": {},
   "outputs": [
    {
     "name": "stdout",
     "output_type": "stream",
     "text": [
      "A       New York\n",
      "B    Los Angeles\n",
      "C        Chicago\n",
      "D        Houston\n",
      "E        Phoenix\n",
      "Name: City, dtype: object\n",
      "\n",
      "Phoenix\n",
      "\n",
      "Phoenix\n"
     ]
    }
   ],
   "source": [
    "# series\n",
    "\n",
    "s = df.City\n",
    "print(s)\n",
    "print()\n",
    "print(s[\"E\"])\n",
    "print()\n",
    "print(s.iloc[4])"
   ]
  },
  {
   "cell_type": "code",
   "execution_count": 4,
   "id": "8118f6a1",
   "metadata": {},
   "outputs": [
    {
     "name": "stdout",
     "output_type": "stream",
     "text": [
      "    Name  Age     City  Salary\n",
      "E    Eve   45  Phoenix  100000\n",
      "D  David   40  Houston   90000\n",
      "\n",
      "      Name         City\n",
      "A    Alice     New York\n",
      "B      Bob  Los Angeles\n",
      "C  Charlie      Chicago\n",
      "D    David      Houston\n",
      "E      Eve      Phoenix\n"
     ]
    }
   ],
   "source": [
    "# DataFrame\n",
    "## Mainly to demonstrate some confusing methods for directly selecting rows and columns.\n",
    "\n",
    "print(df[:2:-1])\n",
    "print()\n",
    "print(df[[\"Name\",\"City\"]])"
   ]
  },
  {
   "cell_type": "markdown",
   "id": "0c396da5",
   "metadata": {},
   "source": [
    "#### Conditional Selection or Deletion (Masking, where)\n",
    "\n",
    "1. Primarily use [], then where(), and lastly query().\n",
    "2. When filtering data, first check if the function allows passing the axis parameter (where can).\n",
    "3. You can still use apply() in combination with lambda expressions."
   ]
  },
  {
   "cell_type": "code",
   "execution_count": 22,
   "id": "c826af45",
   "metadata": {},
   "outputs": [
    {
     "name": "stdout",
     "output_type": "stream",
     "text": [
      "     A   B   C   D\n",
      "0   93  93  36  47\n",
      "1   83  54  97  69\n",
      "2   79  35  61  20\n",
      "3   23  26  95  17\n",
      "4    2  40  37  36\n",
      "..  ..  ..  ..  ..\n",
      "95  75   9  77  49\n",
      "96   2  60   7  11\n",
      "97  71  93  84  69\n",
      "98  90  40  42  28\n",
      "99   5  34  68  69\n",
      "\n",
      "[100 rows x 4 columns]\n",
      "\n"
     ]
    }
   ],
   "source": [
    "# Example \n",
    "df_num = pd.DataFrame(np.random.randint(0,100,size=(100, 4)), columns=list('ABCD'))\n",
    "\n",
    "print(df_num)\n",
    "print()"
   ]
  },
  {
   "cell_type": "code",
   "execution_count": 23,
   "id": "7aff5a80",
   "metadata": {},
   "outputs": [
    {
     "name": "stdout",
     "output_type": "stream",
     "text": [
      "0      True\n",
      "1      True\n",
      "2      True\n",
      "3     False\n",
      "4     False\n",
      "      ...  \n",
      "95     True\n",
      "96    False\n",
      "97     True\n",
      "98     True\n",
      "99    False\n",
      "Name: A, Length: 100, dtype: bool\n"
     ]
    }
   ],
   "source": [
    "# return boolean series\n",
    "\n",
    "print(df_num['A'] > 50)"
   ]
  },
  {
   "cell_type": "code",
   "execution_count": 23,
   "id": "78c75535",
   "metadata": {},
   "outputs": [
    {
     "name": "stdout",
     "output_type": "stream",
     "text": [
      "        A      B      C      D\n",
      "0   False  False   True   True\n",
      "1   False   True  False  False\n",
      "2    True  False   True  False\n",
      "3    True  False  False  False\n",
      "4   False   True  False  False\n",
      "..    ...    ...    ...    ...\n",
      "95  False   True   True   True\n",
      "96   True  False  False  False\n",
      "97  False  False  False   True\n",
      "98  False   True  False   True\n",
      "99   True  False   True  False\n",
      "\n",
      "[100 rows x 4 columns]\n"
     ]
    }
   ],
   "source": [
    "# Return a boolean DataFrame\n",
    "## Understand the syntax, as this is the foundation for many conditional selections.\n",
    "## It's equivalent to .where()\n",
    "\n",
    "print(df_num > 50)"
   ]
  },
  {
   "cell_type": "code",
   "execution_count": 27,
   "id": "1b3c9cfa",
   "metadata": {},
   "outputs": [
    {
     "name": "stdout",
     "output_type": "stream",
     "text": [
      "     A   B   C   D\n",
      "0    0   0  61  86\n",
      "1    0  85   0   0\n",
      "2   76   0  57   0\n",
      "3   97   0   0   0\n",
      "4    0  99   0   0\n",
      "..  ..  ..  ..  ..\n",
      "95   0  93  97  69\n",
      "96  57   0   0   0\n",
      "97   0   0   0  76\n",
      "98   0  72   0  51\n",
      "99  77   0  74   0\n",
      "\n",
      "[100 rows x 4 columns]\n"
     ]
    }
   ],
   "source": [
    "# Usage of where\n",
    "## where can directly replace the original values.\n",
    "## You can also pass the axis parameter.\n",
    "\n",
    "print(df_num.where(df_num > 50, 0))"
   ]
  },
  {
   "cell_type": "code",
   "execution_count": 24,
   "id": "b6748502",
   "metadata": {},
   "outputs": [
    {
     "name": "stdout",
     "output_type": "stream",
     "text": [
      "       A     B     C     D\n",
      "0    NaN   NaN  61.0  86.0\n",
      "1    NaN  85.0   NaN   NaN\n",
      "2   76.0   NaN  57.0   NaN\n",
      "3   97.0   NaN   NaN   NaN\n",
      "4    NaN  99.0   NaN   NaN\n",
      "..   ...   ...   ...   ...\n",
      "95   NaN  93.0  97.0  69.0\n",
      "96  57.0   NaN   NaN   NaN\n",
      "97   NaN   NaN   NaN  76.0\n",
      "98   NaN  72.0   NaN  51.0\n",
      "99  77.0   NaN  74.0   NaN\n",
      "\n",
      "[100 rows x 4 columns]\n",
      "\n"
     ]
    }
   ],
   "source": [
    "# With the boolean DataFrame as a mask\n",
    "## It will return a DataFrame that only shows data greater than 50.\n",
    "\n",
    "print(df_num[df_num > 50])\n",
    "print()"
   ]
  },
  {
   "cell_type": "code",
   "execution_count": 20,
   "id": "b7bb6694",
   "metadata": {},
   "outputs": [
    {
     "name": "stdout",
     "output_type": "stream",
     "text": [
      "     A   B   C   D\n",
      "4   82  90  38  53\n",
      "5   84  19  44  12\n",
      "6   52  78  87  82\n",
      "7   66  42  13  26\n",
      "9   93   3  60  50\n",
      "10  60  31  57   2\n",
      "11  95  58  28  33\n",
      "14  87  96  70  67\n",
      "15  55  87  37  90\n",
      "16  91  46  40   3\n",
      "18  89  80  32   0\n",
      "19  97  94  73  57\n",
      "20  57  65   5  68\n",
      "22  78  11  45  66\n",
      "25  90  67  18  76\n",
      "26  80   1  76  77\n",
      "27  95  77   7  19\n",
      "29  75  17  15  15\n",
      "30  78  76  69  68\n",
      "31  70  84  74  32\n",
      "32  77  52  85   9\n",
      "34  62  89  66  58\n",
      "37  60  25  23  75\n",
      "38  53  48  29  68\n",
      "40  54  83  33  19\n",
      "42  93  46  16  13\n",
      "43  96  18  41  85\n",
      "44  92  68  70  54\n",
      "46  64  52  51  47\n",
      "50  61  78  14  17\n",
      "51  67  40  71  96\n",
      "55  64  56  53  82\n",
      "56  81  79  43  27\n",
      "58  86  61  84  20\n",
      "59  81  57  19  96\n",
      "60  57  95  78  87\n",
      "61  74  88  40  90\n",
      "63  60  51  97  75\n",
      "64  74  13  95  35\n",
      "65  88  26  23  37\n",
      "66  57  89  10  62\n",
      "73  54  18  38  46\n",
      "74  84  60  44  18\n",
      "75  91  92  72  17\n",
      "77  79  82  95  14\n",
      "78  64  51  44  38\n",
      "79  53   6   1  63\n",
      "80  97  16  16  44\n",
      "81  83  22  95  38\n",
      "82  94  49  22  52\n",
      "83  58  28  48   4\n",
      "87  96  75  44  79\n",
      "90  76  19  21  15\n",
      "91  89  67  81  64\n",
      "92  91   0  85   5\n",
      "93  86  11  27  47\n",
      "94  55  67  83  34\n",
      "95  85  10  69   6\n",
      "96  85  19  24  39\n"
     ]
    }
   ],
   "source": [
    "# Select rows where column A is greater than 50\n",
    "\n",
    "print(df_num[df_num.A > 50])"
   ]
  },
  {
   "cell_type": "markdown",
   "id": "22f08573",
   "metadata": {},
   "source": [
    "### Best Practices for Data Types\n",
    "\n",
    "For columns with specific type requirements, set the data types beforehand and then construct the DataFrame.\n"
   ]
  },
  {
   "cell_type": "code",
   "execution_count": 9,
   "id": "19a21cbe",
   "metadata": {},
   "outputs": [
    {
     "name": "stdout",
     "output_type": "stream",
     "text": [
      "A             Int64\n",
      "B          category\n",
      "C    string[python]\n",
      "D           boolean\n",
      "dtype: object\n"
     ]
    }
   ],
   "source": [
    "\n",
    "A_type = \"Int64\"\n",
    "B_type = pd.CategoricalDtype(categories=[\"b\", \"c\", \"d\"], ordered=True)\n",
    "C_type = \"string\"\n",
    "D_type = \"boolean\"\n",
    "\n",
    "df = pd.DataFrame({ \n",
    "                   \"A\": pd.Series([1, 2, 3, 4], dtype=A_type), \n",
    "                   \"B\": pd.Series([\"b\", \"c\", \"d\", \"b\"], dtype=B_type), \n",
    "                   \"C\": pd.Series([\"foo\", \"bar\", \"foo\", \"bar\"], dtype=C_type), \n",
    "                   \"D\": pd.Series([True, False, True, False], dtype=D_type) \n",
    "                   })\n",
    "\n",
    "print(df.dtypes)\n",
    "\n",
    "# What to do if the type is incorrect?\n",
    "# Use astype, or assign the correct value directly.\n"
   ]
  },
  {
   "cell_type": "markdown",
   "id": "9ca9ee8e",
   "metadata": {},
   "source": [
    "### Categorical"
   ]
  },
  {
   "cell_type": "code",
   "execution_count": 3,
   "id": "3248e1c3",
   "metadata": {},
   "outputs": [
    {
     "data": {
      "text/plain": [
       "0    a\n",
       "1    b\n",
       "2    c\n",
       "3    a\n",
       "dtype: category\n",
       "Categories (3, object): ['a', 'b', 'c']"
      ]
     },
     "execution_count": 3,
     "metadata": {},
     "output_type": "execute_result"
    }
   ],
   "source": [
    "# create a category type\n",
    "\n",
    "s = pd.Series([\"a\", \"b\", \"c\", \"a\"], dtype=\"category\")\n",
    "s"
   ]
  },
  {
   "cell_type": "code",
   "execution_count": 4,
   "id": "6c3d96a8",
   "metadata": {},
   "outputs": [
    {
     "name": "stdout",
     "output_type": "stream",
     "text": [
      "A    category\n",
      "B    category\n",
      "dtype: object\n",
      "\n",
      "     A  B\n",
      "0  NaN  b\n",
      "1    b  c\n",
      "2    c  c\n",
      "3  NaN  d\n"
     ]
    }
   ],
   "source": [
    "# Use the Categorical class to define the structure of categorical data\n",
    "# You can remove unnecessary categories.\n",
    "\n",
    "df = pd.DataFrame({\"A\": list(\"abca\"), \"B\": list(\"bccd\")}, dtype=\"category\")\n",
    "df[\"A\"] = pd.Categorical(df[\"A\"], categories=[\"b\", \"c\", \"d\"], ordered=True)\n",
    "\n",
    "## df = pd.DataFrame(pd.Categorical(\"A\": list(\"abca\"), categories=[\"b\", \"c\", \"d\"], ordered=True)\n",
    "## df[\"A\"].astype(CategoricalDtype(categories=['foo', 'bar'], ordered=True))\n",
    "print(df.dtypes)\n",
    "print()\n",
    "print(df)"
   ]
  },
  {
   "cell_type": "markdown",
   "id": "7ea94806",
   "metadata": {},
   "source": [
    "### Binning with cut and qcut\n",
    "\n",
    "Data can be divided into discrete intervals, where you can specify the boundaries of the intervals or the number of intervals.  \n",
    "Using `qcut` instead of `cut` allows for dividing intervals based on percentiles rather than fixed values.\n",
    "\n",
    "Special Parameters:\n",
    "1. `ordered = True` is effective when passing a series.\n",
    "2. `right` defaults to True, meaning left-open and right-closed intervals; False means left-closed and right-open intervals.\n",
    "3. `include_lowest` defaults to False, True ensures that the left endpoint of the first interval is closed, including the minimum value.\n",
    "4. `retbins` defaults to False, True means it will return the bin edges as an array.\n"
   ]
  },
  {
   "cell_type": "code",
   "execution_count": 14,
   "id": "8e1e5554",
   "metadata": {},
   "outputs": [
    {
     "name": "stdout",
     "output_type": "stream",
     "text": [
      "     A   B   C   D\n",
      "0   23  29  37  92\n",
      "1   74  31  23  71\n",
      "2   19  26   0  71\n",
      "3   58  67  37  77\n",
      "4   33  21  61  33\n",
      "..  ..  ..  ..  ..\n",
      "95  73  86  26  54\n",
      "96  82  38  61  12\n",
      "97  63  61   4  35\n",
      "98  51  54  92  39\n",
      "99  85  87  15  88\n",
      "\n",
      "[100 rows x 4 columns]\n",
      "\n"
     ]
    }
   ],
   "source": [
    "df_num = pd.DataFrame(np.random.randint(0,100,size=(100, 4)), columns=list('ABCD'))\n",
    "\n",
    "print(df_num)\n",
    "print()"
   ]
  },
  {
   "cell_type": "code",
   "execution_count": 15,
   "id": "2ca4998f",
   "metadata": {},
   "outputs": [
    {
     "name": "stdout",
     "output_type": "stream",
     "text": [
      "     A   B   C   D     Cut\n",
      "0   23  29  37  92    0-25\n",
      "1   74  31  23  71   50-75\n",
      "2   19  26   0  71    0-25\n",
      "3   58  67  37  77   50-75\n",
      "4   33  21  61  33   25-50\n",
      "..  ..  ..  ..  ..     ...\n",
      "95  73  86  26  54   50-75\n",
      "96  82  38  61  12  75-100\n",
      "97  63  61   4  35   50-75\n",
      "98  51  54  92  39   50-75\n",
      "99  85  87  15  88  75-100\n",
      "\n",
      "[100 rows x 5 columns]\n"
     ]
    }
   ],
   "source": [
    "# Bin column A based on fixed values and assign labels\n",
    "\n",
    "df_num['Cut'] = pd.cut(df_num['A'], bins=[0, 25, 50, 75, 100], labels=[\"0-25\", \"25-50\", \"50-75\", \"75-100\"], duplicates='drop')\n",
    "print(df_num)"
   ]
  },
  {
   "cell_type": "code",
   "execution_count": 20,
   "id": "c75c010b",
   "metadata": {},
   "outputs": [
    {
     "name": "stdout",
     "output_type": "stream",
     "text": [
      "     A   B   C   D     Cut Qcut BinsCut\n",
      "0   23  29  37  92    0-25   P2      B2\n",
      "1   74  31  23  71   50-75   P3      B5\n",
      "2   19  26   0  71    0-25   P1      B2\n",
      "3   58  67  37  77   50-75   P3      B4\n",
      "4   33  21  61  33   25-50   P2      B2\n",
      "..  ..  ..  ..  ..     ...  ...     ...\n",
      "95  73  86  26  54   50-75   P3      B5\n",
      "96  82  38  61  12  75-100   P4      B5\n",
      "97  63  61   4  35   50-75   P3      B4\n",
      "98  51  54  92  39   50-75   P3      B4\n",
      "99  85  87  15  88  75-100   P4      B6\n",
      "\n",
      "[100 rows x 7 columns]\n"
     ]
    }
   ],
   "source": [
    "# Bin column A based on the number of intervals and assign labels\n",
    "\n",
    "df_num['BinsCut'] = pd.cut(df_num['A'], 6, labels=[\"B1\", \"B2\", \"B3\", \"B4\", \"B5\",\"B6\"])\n",
    "print(df_num)"
   ]
  },
  {
   "cell_type": "code",
   "execution_count": 21,
   "id": "e52c23d3",
   "metadata": {},
   "outputs": [
    {
     "name": "stdout",
     "output_type": "stream",
     "text": [
      "     A   B   C   D     Cut Qcut BinsCut Qtilecut\n",
      "0   23  29  37  92    0-25   P2      B2       Q2\n",
      "1   74  31  23  71   50-75   P3      B5       Q3\n",
      "2   19  26   0  71    0-25   P1      B2       Q1\n",
      "3   58  67  37  77   50-75   P3      B4       Q3\n",
      "4   33  21  61  33   25-50   P2      B2       Q2\n",
      "..  ..  ..  ..  ..     ...  ...     ...      ...\n",
      "95  73  86  26  54   50-75   P3      B5       Q3\n",
      "96  82  38  61  12  75-100   P4      B5       Q4\n",
      "97  63  61   4  35   50-75   P3      B4       Q3\n",
      "98  51  54  92  39   50-75   P3      B4       Q3\n",
      "99  85  87  15  88  75-100   P4      B6       Q4\n",
      "\n",
      "[100 rows x 8 columns]\n"
     ]
    }
   ],
   "source": [
    "# Bin column A based on percentiles and assign labels\n",
    "## Alternatively, pass the q parameter: 10 for deciles (10th percentiles), 4 for quartiles (4th percentiles).\n",
    "\n",
    "df_num['Qcut'] = pd.qcut(df_num['A'], [0, 0.25, 0.5, 0.75, 1], labels=[\"P1\", \"P2\", \"P3\", \"P4\"])\n",
    "df_num['Qtilecut'] = pd.qcut(df_num['A'], 4, labels=[\"Q1\", \"Q2\", \"Q3\", \"Q4\"])\n",
    "print(df_num)\n"
   ]
  },
  {
   "cell_type": "markdown",
   "id": "10998194",
   "metadata": {},
   "source": [
    "### Sorting: sort_index, sort_values\n",
    "\n",
    "Use the sort_index and sort_values methods. The former sorts by index, while the latter sorts by values (you need to specify the column).\n"
   ]
  },
  {
   "cell_type": "code",
   "execution_count": 11,
   "id": "0375a520",
   "metadata": {},
   "outputs": [
    {
     "name": "stdout",
     "output_type": "stream",
     "text": [
      "      Name  Age         City  Salary\n",
      "A    Alice   25     New York   60000\n",
      "B      Bob   30  Los Angeles   70000\n",
      "C  Charlie   35      Chicago   80000\n",
      "D    David   40      Houston   90000\n",
      "E      Eve   45      Phoenix  100000\n",
      "\n",
      "      Name  Age         City  Salary\n",
      "A    Alice   25     New York   60000\n",
      "B      Bob   30  Los Angeles   70000\n",
      "C  Charlie   35      Chicago   80000\n",
      "D    David   40      Houston   90000\n",
      "E      Eve   45      Phoenix  100000\n",
      "\n",
      "      Name  Age         City  Salary\n",
      "E      Eve   45      Phoenix  100000\n",
      "D    David   40      Houston   90000\n",
      "C  Charlie   35      Chicago   80000\n",
      "B      Bob   30  Los Angeles   70000\n",
      "A    Alice   25     New York   60000\n"
     ]
    }
   ],
   "source": [
    "data = {\n",
    "    'Name': ['Alice', 'Bob', 'Charlie', 'David', 'Eve'],\n",
    "    'Age': [25, 30, 35, 40, 45],\n",
    "    'City': ['New York', 'Los Angeles', 'Chicago', 'Houston', 'Phoenix'],\n",
    "    'Salary': [60000, 70000, 80000, 90000, 100000]\n",
    "}\n",
    "\n",
    "df = pd.DataFrame(data, index=['A', 'B', 'C', 'D', 'E'])\n",
    "\n",
    "print(df)\n",
    "\n",
    "print(df)\n",
    "print()\n",
    "print(df.sort_index())\n",
    "print()\n",
    "print(df.sort_values(by=\"Salary\", ascending=False))"
   ]
  },
  {
   "cell_type": "markdown",
   "id": "f7411be9",
   "metadata": {},
   "source": [
    "### reshape"
   ]
  },
  {
   "cell_type": "markdown",
   "id": "f2764c55",
   "metadata": {},
   "source": [
    "#### concat、merge\n",
    "\n",
    "For DataFrames of different sizes, be sure to use the reset_index() method to reset the index.\n",
    "\n",
    "1. concat: Concatenate along rows or columns.\n",
    "2. merge: SQL-style JOIN.\n"
   ]
  },
  {
   "cell_type": "code",
   "execution_count": 32,
   "id": "fb4bfff8",
   "metadata": {},
   "outputs": [
    {
     "name": "stdout",
     "output_type": "stream",
     "text": [
      "[   index         0         1         2         3\n",
      "0      0  1.084744  0.004355  1.094328  0.371122\n",
      "1      1 -1.171711 -0.047299 -0.380557 -1.729807\n",
      "2      2 -0.606242 -0.057129  0.600145 -0.557517,\n",
      "    index         0         1         2         3\n",
      "0      3 -0.230784  0.307246  0.196767 -0.366682\n",
      "1      4 -0.048933 -1.360850 -0.798853  0.278918\n",
      "2      5 -0.943513 -0.790354 -0.534089  0.129146\n",
      "3      6  1.146584 -1.523596 -2.218124  1.549359,\n",
      "    index         0         1         2         3\n",
      "0      7  0.929279 -0.157374 -1.558631 -0.203821\n",
      "1      8 -0.673927  0.143456 -0.445237 -0.664387\n",
      "2      9 -1.462854 -0.629377  0.504479  0.142350]\n",
      "\n",
      "   index         0         1         2         3  index         0         1  \\\n",
      "0    0.0  1.084744  0.004355  1.094328  0.371122      3 -0.230784  0.307246   \n",
      "1    1.0 -1.171711 -0.047299 -0.380557 -1.729807      4 -0.048933 -1.360850   \n",
      "2    2.0 -0.606242 -0.057129  0.600145 -0.557517      5 -0.943513 -0.790354   \n",
      "3    NaN       NaN       NaN       NaN       NaN      6  1.146584 -1.523596   \n",
      "\n",
      "          2         3  index         0         1         2         3  \n",
      "0  0.196767 -0.366682    7.0  0.929279 -0.157374 -1.558631 -0.203821  \n",
      "1 -0.798853  0.278918    8.0 -0.673927  0.143456 -0.445237 -0.664387  \n",
      "2 -0.534089  0.129146    9.0 -1.462854 -0.629377  0.504479  0.142350  \n",
      "3 -2.218124  1.549359    NaN       NaN       NaN       NaN       NaN  \n"
     ]
    }
   ],
   "source": [
    "# Simple concatenation using concat\n",
    "# Has an axis parameter\n",
    "# Pass a list as input\n",
    "\n",
    "df = pd.DataFrame(np.random.randn(10, 4))\n",
    "dflits = [df[:3].reset_index(), df[3:7].reset_index(), df[7:].reset_index()]\n",
    "pprint(dflits)\n",
    "print()\n",
    "print(pd.concat(dflits, axis=1))"
   ]
  },
  {
   "cell_type": "code",
   "execution_count": 8,
   "id": "e4bd3437",
   "metadata": {},
   "outputs": [
    {
     "name": "stdout",
     "output_type": "stream",
     "text": [
      "   key  lval\n",
      "0  foo     1\n",
      "1  foo     2\n",
      "   key  rval\n",
      "0  foo     4\n",
      "1  foo     5\n"
     ]
    },
    {
     "data": {
      "text/html": [
       "<div>\n",
       "<style scoped>\n",
       "    .dataframe tbody tr th:only-of-type {\n",
       "        vertical-align: middle;\n",
       "    }\n",
       "\n",
       "    .dataframe tbody tr th {\n",
       "        vertical-align: top;\n",
       "    }\n",
       "\n",
       "    .dataframe thead th {\n",
       "        text-align: right;\n",
       "    }\n",
       "</style>\n",
       "<table border=\"1\" class=\"dataframe\">\n",
       "  <thead>\n",
       "    <tr style=\"text-align: right;\">\n",
       "      <th></th>\n",
       "      <th>key</th>\n",
       "      <th>lval</th>\n",
       "      <th>rval</th>\n",
       "    </tr>\n",
       "  </thead>\n",
       "  <tbody>\n",
       "    <tr>\n",
       "      <th>0</th>\n",
       "      <td>foo</td>\n",
       "      <td>1</td>\n",
       "      <td>4</td>\n",
       "    </tr>\n",
       "    <tr>\n",
       "      <th>1</th>\n",
       "      <td>foo</td>\n",
       "      <td>1</td>\n",
       "      <td>5</td>\n",
       "    </tr>\n",
       "    <tr>\n",
       "      <th>2</th>\n",
       "      <td>foo</td>\n",
       "      <td>2</td>\n",
       "      <td>4</td>\n",
       "    </tr>\n",
       "    <tr>\n",
       "      <th>3</th>\n",
       "      <td>foo</td>\n",
       "      <td>2</td>\n",
       "      <td>5</td>\n",
       "    </tr>\n",
       "  </tbody>\n",
       "</table>\n",
       "</div>"
      ],
      "text/plain": [
       "   key  lval  rval\n",
       "0  foo     1     4\n",
       "1  foo     1     5\n",
       "2  foo     2     4\n",
       "3  foo     2     5"
      ]
     },
     "execution_count": 8,
     "metadata": {},
     "output_type": "execute_result"
    }
   ],
   "source": [
    "# merge\n",
    "## Equivalent to SQL JOIN\n",
    "\n",
    "left = pd.DataFrame({\"key\": [\"foo\", \"foo\"], \"lval\": [1, 2]})\n",
    "print(left)\n",
    "\n",
    "right = pd.DataFrame({\"key\": [\"foo\", \"foo\"], \"rval\": [4, 5]})\n",
    "print(right)\n",
    "\n",
    "pd.merge(left, right, on=\"key\")"
   ]
  },
  {
   "cell_type": "markdown",
   "id": "d9e4e6c8",
   "metadata": {},
   "source": [
    "#### stack、pivot\n",
    "Reshape consists of two parts:\n",
    "1. stack: Converts column indices into row indices, can be reverted using unstack().\n",
    "2. pivot_table(): Pivot table.\n"
   ]
  },
  {
   "cell_type": "code",
   "execution_count": 14,
   "id": "aa26365e",
   "metadata": {},
   "outputs": [
    {
     "name": "stdout",
     "output_type": "stream",
     "text": [
      "     A      B         C         D\n",
      "0  foo    one  0.101200  0.248596\n",
      "1  bar    one -1.207116 -1.424039\n",
      "2  foo    two -0.493197  0.697662\n",
      "3  bar  three -0.451021  2.915910\n",
      "4  foo    two -0.521250  0.059482\n",
      "5  bar    two -2.039441 -1.851153\n",
      "6  foo    one  0.385903  0.370451\n",
      "7  foo  three -1.043653 -0.214073\n"
     ]
    }
   ],
   "source": [
    "# example \n",
    "df = pd.DataFrame(\n",
    "{\n",
    "\"A\": [\"foo\", \"bar\", \"foo\", \"bar\", \"foo\", \"bar\", \"foo\", \"foo\"],\n",
    "\"B\": [\"one\", \"one\", \"two\", \"three\", \"two\", \"two\", \"one\", \"three\"],\n",
    "\"C\": np.random.randn(8),\n",
    "\"D\": np.random.randn(8), }\n",
    ")\n",
    "print(df)"
   ]
  },
  {
   "cell_type": "code",
   "execution_count": 33,
   "id": "7bb37aab",
   "metadata": {},
   "outputs": [
    {
     "name": "stdout",
     "output_type": "stream",
     "text": [
      "                     A         B\n",
      "first second                    \n",
      "bar   one     0.529099  0.337105\n",
      "      two    -1.126493 -1.369664\n",
      "baz   one    -0.749937  1.312761\n",
      "      two    -0.720214 -0.883736\n",
      "foo   one    -0.929833  0.190915\n",
      "      two    -0.595346 -1.426784\n",
      "qux   one     1.410536 -0.760368\n",
      "      two     0.076673  1.608456\n",
      "\n",
      "                     A         B\n",
      "first second                    \n",
      "bar   one    -0.762222 -0.630633\n",
      "      two    -1.306164 -0.190573\n",
      "baz   one    -0.175900  0.217843\n",
      "      two     1.256792 -0.986489\n",
      "\n",
      "first  second   \n",
      "bar    one     A   -0.762222\n",
      "               B   -0.630633\n",
      "       two     A   -1.306164\n",
      "               B   -0.190573\n",
      "baz    one     A   -0.175900\n",
      "               B    0.217843\n",
      "       two     A    1.256792\n",
      "               B   -0.986489\n",
      "dtype: float64\n"
     ]
    }
   ],
   "source": [
    "# reshape\n",
    "## stack\n",
    "arrays = [\n",
    "   [\"bar\", \"bar\", \"baz\", \"baz\", \"foo\", \"foo\", \"qux\", \"qux\"],\n",
    "   [\"one\", \"two\", \"one\", \"two\", \"one\", \"two\", \"one\", \"two\"],\n",
    "]\n",
    "\n",
    "print(df)\n",
    "print()\n",
    "index = pd.MultiIndex.from_arrays(arrays, names=[\"first\", \"second\"])\n",
    "df = pd.DataFrame(np.random.randn(8, 2), index=index, columns=[\"A\", \"B\"])\n",
    "df2 = df[:4]\n",
    "print(df2)\n",
    "print()\n",
    "\n",
    "stacked = df2.stack(future_stack=True)\n",
    "print(stacked)"
   ]
  },
  {
   "cell_type": "code",
   "execution_count": 23,
   "id": "0d4d1de0",
   "metadata": {},
   "outputs": [
    {
     "name": "stdout",
     "output_type": "stream",
     "text": [
      "        A  B    C         D         E\n",
      "0     one  A  foo  0.123088 -0.164807\n",
      "1     one  B  foo -0.926776 -0.542652\n",
      "2     two  C  foo -0.979414 -0.758513\n",
      "3   three  A  bar -0.042990  0.900497\n",
      "4     one  B  bar -1.604740  1.805607\n",
      "5     one  C  bar -0.316301 -0.684537\n",
      "6     two  A  foo  0.418688  0.034220\n",
      "7   three  B  foo  0.393327  0.925181\n",
      "8     one  C  foo -0.275877  1.232546\n",
      "9     one  A  bar  0.648915  0.238873\n",
      "10    two  B  bar  2.929454  0.841834\n",
      "11  three  C  bar -0.785253  1.370047\n"
     ]
    },
    {
     "data": {
      "text/html": [
       "<div>\n",
       "<style scoped>\n",
       "    .dataframe tbody tr th:only-of-type {\n",
       "        vertical-align: middle;\n",
       "    }\n",
       "\n",
       "    .dataframe tbody tr th {\n",
       "        vertical-align: top;\n",
       "    }\n",
       "\n",
       "    .dataframe thead th {\n",
       "        text-align: right;\n",
       "    }\n",
       "</style>\n",
       "<table border=\"1\" class=\"dataframe\">\n",
       "  <thead>\n",
       "    <tr style=\"text-align: right;\">\n",
       "      <th></th>\n",
       "      <th>C</th>\n",
       "      <th>bar</th>\n",
       "      <th>foo</th>\n",
       "    </tr>\n",
       "    <tr>\n",
       "      <th>A</th>\n",
       "      <th>B</th>\n",
       "      <th></th>\n",
       "      <th></th>\n",
       "    </tr>\n",
       "  </thead>\n",
       "  <tbody>\n",
       "    <tr>\n",
       "      <th rowspan=\"3\" valign=\"top\">one</th>\n",
       "      <th>A</th>\n",
       "      <td>0.648915</td>\n",
       "      <td>0.123088</td>\n",
       "    </tr>\n",
       "    <tr>\n",
       "      <th>B</th>\n",
       "      <td>-1.604740</td>\n",
       "      <td>-0.926776</td>\n",
       "    </tr>\n",
       "    <tr>\n",
       "      <th>C</th>\n",
       "      <td>-0.316301</td>\n",
       "      <td>-0.275877</td>\n",
       "    </tr>\n",
       "    <tr>\n",
       "      <th rowspan=\"3\" valign=\"top\">three</th>\n",
       "      <th>A</th>\n",
       "      <td>-0.042990</td>\n",
       "      <td>NaN</td>\n",
       "    </tr>\n",
       "    <tr>\n",
       "      <th>B</th>\n",
       "      <td>NaN</td>\n",
       "      <td>0.393327</td>\n",
       "    </tr>\n",
       "    <tr>\n",
       "      <th>C</th>\n",
       "      <td>-0.785253</td>\n",
       "      <td>NaN</td>\n",
       "    </tr>\n",
       "    <tr>\n",
       "      <th rowspan=\"3\" valign=\"top\">two</th>\n",
       "      <th>A</th>\n",
       "      <td>NaN</td>\n",
       "      <td>0.418688</td>\n",
       "    </tr>\n",
       "    <tr>\n",
       "      <th>B</th>\n",
       "      <td>2.929454</td>\n",
       "      <td>NaN</td>\n",
       "    </tr>\n",
       "    <tr>\n",
       "      <th>C</th>\n",
       "      <td>NaN</td>\n",
       "      <td>-0.979414</td>\n",
       "    </tr>\n",
       "  </tbody>\n",
       "</table>\n",
       "</div>"
      ],
      "text/plain": [
       "C             bar       foo\n",
       "A     B                    \n",
       "one   A  0.648915  0.123088\n",
       "      B -1.604740 -0.926776\n",
       "      C -0.316301 -0.275877\n",
       "three A -0.042990       NaN\n",
       "      B       NaN  0.393327\n",
       "      C -0.785253       NaN\n",
       "two   A       NaN  0.418688\n",
       "      B  2.929454       NaN\n",
       "      C       NaN -0.979414"
      ]
     },
     "execution_count": 23,
     "metadata": {},
     "output_type": "execute_result"
    }
   ],
   "source": [
    "## pivot_table\n",
    "\n",
    "df = pd.DataFrame(\n",
    "    {\n",
    "        \"A\": [\"one\", \"one\", \"two\", \"three\"] * 3,\n",
    "        \"B\": [\"A\", \"B\", \"C\"] * 4,\n",
    "        \"C\": [\"foo\", \"foo\", \"foo\", \"bar\", \"bar\", \"bar\"] * 2,\n",
    "        \"D\": np.random.randn(12),\n",
    "        \"E\": np.random.randn(12),\n",
    "    }\n",
    ")\n",
    "print(df)\n",
    "pd.pivot_table(df, values=\"D\", index=[\"A\", \"B\"], columns=[\"C\"])\n"
   ]
  },
  {
   "cell_type": "markdown",
   "id": "9aa82203",
   "metadata": {},
   "source": [
    "#### groupby"
   ]
  },
  {
   "cell_type": "code",
   "execution_count": 40,
   "id": "936202bc",
   "metadata": {},
   "outputs": [
    {
     "name": "stdout",
     "output_type": "stream",
     "text": [
      "     A      B         C         D\n",
      "0  foo    one  1.355561 -0.144665\n",
      "1  bar    one -0.785882  0.505851\n",
      "2  foo    two  0.759317 -0.839268\n",
      "3  bar  three -0.353689 -1.813407\n",
      "4  foo    two -1.447453 -0.439173\n",
      "5  bar    two -0.816562  0.801510\n",
      "6  foo    one -0.838415 -0.255706\n",
      "7  foo  three -1.442524 -0.518148\n",
      "\n",
      "            D         C\n",
      "A                      \n",
      "bar -0.506046 -1.956134\n",
      "foo -2.196961 -1.613513\n"
     ]
    }
   ],
   "source": [
    "# groupby\n",
    "df = pd.DataFrame(\n",
    "    {\n",
    "        \"A\": [\"foo\", \"bar\", \"foo\", \"bar\", \"foo\", \"bar\", \"foo\", \"foo\"],\n",
    "        \"B\": [\"one\", \"one\", \"two\", \"three\", \"two\", \"two\", \"one\", \"three\"],\n",
    "        \"C\": np.random.randn(8),\n",
    "        \"D\": np.random.randn(8),\n",
    "    }\n",
    ")\n",
    "\n",
    "print(df)\n",
    "print()\n",
    "df_grouped = df.copy().groupby(\"A\")[[\"D\",\"C\"]].sum()\n",
    "print(df_grouped)"
   ]
  },
  {
   "cell_type": "code",
   "execution_count": 42,
   "id": "08a2a557",
   "metadata": {},
   "outputs": [
    {
     "data": {
      "text/html": [
       "<div>\n",
       "<style scoped>\n",
       "    .dataframe tbody tr th:only-of-type {\n",
       "        vertical-align: middle;\n",
       "    }\n",
       "\n",
       "    .dataframe tbody tr th {\n",
       "        vertical-align: top;\n",
       "    }\n",
       "\n",
       "    .dataframe thead th {\n",
       "        text-align: right;\n",
       "    }\n",
       "</style>\n",
       "<table border=\"1\" class=\"dataframe\">\n",
       "  <thead>\n",
       "    <tr style=\"text-align: right;\">\n",
       "      <th></th>\n",
       "      <th>A</th>\n",
       "      <th>B</th>\n",
       "      <th>C</th>\n",
       "      <th>D</th>\n",
       "      <th>new D</th>\n",
       "      <th>new C</th>\n",
       "    </tr>\n",
       "  </thead>\n",
       "  <tbody>\n",
       "    <tr>\n",
       "      <th>0</th>\n",
       "      <td>foo</td>\n",
       "      <td>one</td>\n",
       "      <td>1.355561</td>\n",
       "      <td>-0.144665</td>\n",
       "      <td>-2.196961</td>\n",
       "      <td>-1.613513</td>\n",
       "    </tr>\n",
       "    <tr>\n",
       "      <th>1</th>\n",
       "      <td>bar</td>\n",
       "      <td>one</td>\n",
       "      <td>-0.785882</td>\n",
       "      <td>0.505851</td>\n",
       "      <td>-0.506046</td>\n",
       "      <td>-1.956134</td>\n",
       "    </tr>\n",
       "    <tr>\n",
       "      <th>2</th>\n",
       "      <td>foo</td>\n",
       "      <td>two</td>\n",
       "      <td>0.759317</td>\n",
       "      <td>-0.839268</td>\n",
       "      <td>-2.196961</td>\n",
       "      <td>-1.613513</td>\n",
       "    </tr>\n",
       "    <tr>\n",
       "      <th>3</th>\n",
       "      <td>bar</td>\n",
       "      <td>three</td>\n",
       "      <td>-0.353689</td>\n",
       "      <td>-1.813407</td>\n",
       "      <td>-0.506046</td>\n",
       "      <td>-1.956134</td>\n",
       "    </tr>\n",
       "    <tr>\n",
       "      <th>4</th>\n",
       "      <td>foo</td>\n",
       "      <td>two</td>\n",
       "      <td>-1.447453</td>\n",
       "      <td>-0.439173</td>\n",
       "      <td>-2.196961</td>\n",
       "      <td>-1.613513</td>\n",
       "    </tr>\n",
       "    <tr>\n",
       "      <th>5</th>\n",
       "      <td>bar</td>\n",
       "      <td>two</td>\n",
       "      <td>-0.816562</td>\n",
       "      <td>0.801510</td>\n",
       "      <td>-0.506046</td>\n",
       "      <td>-1.956134</td>\n",
       "    </tr>\n",
       "    <tr>\n",
       "      <th>6</th>\n",
       "      <td>foo</td>\n",
       "      <td>one</td>\n",
       "      <td>-0.838415</td>\n",
       "      <td>-0.255706</td>\n",
       "      <td>-2.196961</td>\n",
       "      <td>-1.613513</td>\n",
       "    </tr>\n",
       "    <tr>\n",
       "      <th>7</th>\n",
       "      <td>foo</td>\n",
       "      <td>three</td>\n",
       "      <td>-1.442524</td>\n",
       "      <td>-0.518148</td>\n",
       "      <td>-2.196961</td>\n",
       "      <td>-1.613513</td>\n",
       "    </tr>\n",
       "  </tbody>\n",
       "</table>\n",
       "</div>"
      ],
      "text/plain": [
       "     A      B         C         D     new D     new C\n",
       "0  foo    one  1.355561 -0.144665 -2.196961 -1.613513\n",
       "1  bar    one -0.785882  0.505851 -0.506046 -1.956134\n",
       "2  foo    two  0.759317 -0.839268 -2.196961 -1.613513\n",
       "3  bar  three -0.353689 -1.813407 -0.506046 -1.956134\n",
       "4  foo    two -1.447453 -0.439173 -2.196961 -1.613513\n",
       "5  bar    two -0.816562  0.801510 -0.506046 -1.956134\n",
       "6  foo    one -0.838415 -0.255706 -2.196961 -1.613513\n",
       "7  foo  three -1.442524 -0.518148 -2.196961 -1.613513"
      ]
     },
     "execution_count": 42,
     "metadata": {},
     "output_type": "execute_result"
    }
   ],
   "source": [
    "# After grouping, use transform to assign the data back to the corresponding records in the original DataFrame.\n",
    "\n",
    "df[[\"new D\",\"new C\"]] = df.groupby(\"A\")[[\"D\",\"C\"]].transform(\"sum\")\n",
    "df"
   ]
  },
  {
   "cell_type": "markdown",
   "id": "552469aa",
   "metadata": {},
   "source": [
    "## Index and Column Names\n",
    "### Multi-Level Index (MultiIndex)\n",
    "\n",
    "Use `pd.MultiIndex.from_tuples()` or `pd.MultiIndex.from_product()` to create multi-level indexes.  \n",
    "You can also use `pd.MultiIndex.from_array()`, which is a more intuitive approach.\n",
    "\n",
    "1. The same principle applies: single brackets `[]` represent a single object, while double brackets `[[]]` represent multiple objects.\n",
    "2. It is generally recommended to use `pd.MultiIndex.from_product()` as this generates multi-level indexes based on the **Cartesian product**.\n",
    "3. If you need to customize the assignment of each sub-level label, you can use `pd.MultiIndex.from_tuples()`, passing a list of tuples representing the relationships.\n",
    "4. The method for constructing the left-side index is similar: pass column names to `columns` and row names to `index`.\n",
    "5. Remember to name the levels—this is a good habit.\n",
    "6. `pd.MultiIndex.from_array()` takes an array for each level, for example: `pd.MultiIndex.from_arrays([['a', 'a', 'b', 'b', 'b'], [1, 2, 1, 2, 1]])`. The tuple relationships are `('a', 1), ('a', 2), ('b', 1), ('b', 2), ('b', 1)`.\n"
   ]
  },
  {
   "cell_type": "code",
   "execution_count": 9,
   "id": "283f84c9",
   "metadata": {},
   "outputs": [
    {
     "name": "stdout",
     "output_type": "stream",
     "text": [
      "     A      B         C         D\n",
      "0  foo    one  0.539148 -2.407817\n",
      "1  bar    one -1.226543  0.194627\n",
      "2  foo    two -0.197548 -0.659420\n",
      "3  bar  three  1.314352 -0.128212\n",
      "4  foo    two  0.272486 -1.765139\n",
      "5  bar    two  0.732187 -2.352811\n",
      "6  foo    one -1.038726 -0.506145\n",
      "7  foo  three  1.625878 -0.446183\n"
     ]
    },
    {
     "data": {
      "text/html": [
       "<div>\n",
       "<style scoped>\n",
       "    .dataframe tbody tr th:only-of-type {\n",
       "        vertical-align: middle;\n",
       "    }\n",
       "\n",
       "    .dataframe tbody tr th {\n",
       "        vertical-align: top;\n",
       "    }\n",
       "\n",
       "    .dataframe thead tr th {\n",
       "        text-align: left;\n",
       "    }\n",
       "</style>\n",
       "<table border=\"1\" class=\"dataframe\">\n",
       "  <thead>\n",
       "    <tr>\n",
       "      <th>First</th>\n",
       "      <th colspan=\"2\" halign=\"left\">Above A</th>\n",
       "      <th colspan=\"2\" halign=\"left\">Above B</th>\n",
       "    </tr>\n",
       "    <tr>\n",
       "      <th>Second</th>\n",
       "      <th>A</th>\n",
       "      <th>B</th>\n",
       "      <th>A</th>\n",
       "      <th>B</th>\n",
       "    </tr>\n",
       "  </thead>\n",
       "  <tbody>\n",
       "    <tr>\n",
       "      <th>0</th>\n",
       "      <td>foo</td>\n",
       "      <td>one</td>\n",
       "      <td>0.539148</td>\n",
       "      <td>-2.407817</td>\n",
       "    </tr>\n",
       "    <tr>\n",
       "      <th>1</th>\n",
       "      <td>bar</td>\n",
       "      <td>one</td>\n",
       "      <td>-1.226543</td>\n",
       "      <td>0.194627</td>\n",
       "    </tr>\n",
       "    <tr>\n",
       "      <th>2</th>\n",
       "      <td>foo</td>\n",
       "      <td>two</td>\n",
       "      <td>-0.197548</td>\n",
       "      <td>-0.659420</td>\n",
       "    </tr>\n",
       "    <tr>\n",
       "      <th>3</th>\n",
       "      <td>bar</td>\n",
       "      <td>three</td>\n",
       "      <td>1.314352</td>\n",
       "      <td>-0.128212</td>\n",
       "    </tr>\n",
       "    <tr>\n",
       "      <th>4</th>\n",
       "      <td>foo</td>\n",
       "      <td>two</td>\n",
       "      <td>0.272486</td>\n",
       "      <td>-1.765139</td>\n",
       "    </tr>\n",
       "    <tr>\n",
       "      <th>5</th>\n",
       "      <td>bar</td>\n",
       "      <td>two</td>\n",
       "      <td>0.732187</td>\n",
       "      <td>-2.352811</td>\n",
       "    </tr>\n",
       "    <tr>\n",
       "      <th>6</th>\n",
       "      <td>foo</td>\n",
       "      <td>one</td>\n",
       "      <td>-1.038726</td>\n",
       "      <td>-0.506145</td>\n",
       "    </tr>\n",
       "    <tr>\n",
       "      <th>7</th>\n",
       "      <td>foo</td>\n",
       "      <td>three</td>\n",
       "      <td>1.625878</td>\n",
       "      <td>-0.446183</td>\n",
       "    </tr>\n",
       "  </tbody>\n",
       "</table>\n",
       "</div>"
      ],
      "text/plain": [
       "First  Above A          Above B          \n",
       "Second       A      B         A         B\n",
       "0          foo    one  0.539148 -2.407817\n",
       "1          bar    one -1.226543  0.194627\n",
       "2          foo    two -0.197548 -0.659420\n",
       "3          bar  three  1.314352 -0.128212\n",
       "4          foo    two  0.272486 -1.765139\n",
       "5          bar    two  0.732187 -2.352811\n",
       "6          foo    one -1.038726 -0.506145\n",
       "7          foo  three  1.625878 -0.446183"
      ]
     },
     "execution_count": 9,
     "metadata": {},
     "output_type": "execute_result"
    }
   ],
   "source": [
    "# product method\n",
    "\n",
    "print(df)\n",
    "\n",
    "myIndex = pd.MultiIndex.from_product([[\"Above A\", \"Above B\"],[\"A\", \"B\"]], names=[\"First\", \"Second\"])\n",
    "\n",
    "df.set_axis(myIndex, axis=1)"
   ]
  },
  {
   "cell_type": "code",
   "execution_count": 14,
   "id": "f218e9f4",
   "metadata": {},
   "outputs": [
    {
     "data": {
      "text/html": [
       "<div>\n",
       "<style scoped>\n",
       "    .dataframe tbody tr th:only-of-type {\n",
       "        vertical-align: middle;\n",
       "    }\n",
       "\n",
       "    .dataframe tbody tr th {\n",
       "        vertical-align: top;\n",
       "    }\n",
       "\n",
       "    .dataframe thead tr th {\n",
       "        text-align: left;\n",
       "    }\n",
       "</style>\n",
       "<table border=\"1\" class=\"dataframe\">\n",
       "  <thead>\n",
       "    <tr>\n",
       "      <th>First</th>\n",
       "      <th colspan=\"2\" halign=\"left\">Above A</th>\n",
       "      <th colspan=\"2\" halign=\"left\">Above B</th>\n",
       "    </tr>\n",
       "    <tr>\n",
       "      <th>Second</th>\n",
       "      <th>A</th>\n",
       "      <th>B</th>\n",
       "      <th>C</th>\n",
       "      <th>D</th>\n",
       "    </tr>\n",
       "  </thead>\n",
       "  <tbody>\n",
       "    <tr>\n",
       "      <th>0</th>\n",
       "      <td>foo</td>\n",
       "      <td>one</td>\n",
       "      <td>0.539148</td>\n",
       "      <td>-2.407817</td>\n",
       "    </tr>\n",
       "    <tr>\n",
       "      <th>1</th>\n",
       "      <td>bar</td>\n",
       "      <td>one</td>\n",
       "      <td>-1.226543</td>\n",
       "      <td>0.194627</td>\n",
       "    </tr>\n",
       "    <tr>\n",
       "      <th>2</th>\n",
       "      <td>foo</td>\n",
       "      <td>two</td>\n",
       "      <td>-0.197548</td>\n",
       "      <td>-0.659420</td>\n",
       "    </tr>\n",
       "    <tr>\n",
       "      <th>3</th>\n",
       "      <td>bar</td>\n",
       "      <td>three</td>\n",
       "      <td>1.314352</td>\n",
       "      <td>-0.128212</td>\n",
       "    </tr>\n",
       "    <tr>\n",
       "      <th>4</th>\n",
       "      <td>foo</td>\n",
       "      <td>two</td>\n",
       "      <td>0.272486</td>\n",
       "      <td>-1.765139</td>\n",
       "    </tr>\n",
       "    <tr>\n",
       "      <th>5</th>\n",
       "      <td>bar</td>\n",
       "      <td>two</td>\n",
       "      <td>0.732187</td>\n",
       "      <td>-2.352811</td>\n",
       "    </tr>\n",
       "    <tr>\n",
       "      <th>6</th>\n",
       "      <td>foo</td>\n",
       "      <td>one</td>\n",
       "      <td>-1.038726</td>\n",
       "      <td>-0.506145</td>\n",
       "    </tr>\n",
       "    <tr>\n",
       "      <th>7</th>\n",
       "      <td>foo</td>\n",
       "      <td>three</td>\n",
       "      <td>1.625878</td>\n",
       "      <td>-0.446183</td>\n",
       "    </tr>\n",
       "  </tbody>\n",
       "</table>\n",
       "</div>"
      ],
      "text/plain": [
       "First  Above A          Above B          \n",
       "Second       A      B         C         D\n",
       "0          foo    one  0.539148 -2.407817\n",
       "1          bar    one -1.226543  0.194627\n",
       "2          foo    two -0.197548 -0.659420\n",
       "3          bar  three  1.314352 -0.128212\n",
       "4          foo    two  0.272486 -1.765139\n",
       "5          bar    two  0.732187 -2.352811\n",
       "6          foo    one -1.038726 -0.506145\n",
       "7          foo  three  1.625878 -0.446183"
      ]
     },
     "execution_count": 14,
     "metadata": {},
     "output_type": "execute_result"
    }
   ],
   "source": [
    "# tuple method\n",
    "\n",
    "df.columns = pd.MultiIndex.from_tuples([(\"Above A\", \"A\"), (\"Above A\", \"B\"), (\"Above B\", \"C\"), (\"Above B\", \"D\")], names=[\"First\", \"Second\"])\n",
    "df"
   ]
  },
  {
   "cell_type": "markdown",
   "id": "1a99e1e2",
   "metadata": {},
   "source": [
    "### Interval Index (IntervalIndex)\n",
    "\n",
    "Similar to MultiIndex, you can construct it using the corresponding methods.  \n",
    "Apply it to the `index` parameter.\n",
    "\n",
    "1. `pd.IntervalIndex.from_arrays`: Provide the arrays for the lower and upper bounds.\n",
    "2. `pd.IntervalIndex.from_tuples`: Provide a list of tuples.\n",
    "3. `pd.interval_range`: Provides the interval range.\n",
    "4. `pd.IntervalIndex.from_breaks`: Provide the breakpoints.\n",
    "5. Use `closed=` to set the closure type, the default is `'right'` (left-open, right-closed).\n",
    "   1. `\"right\"`: Right-closed.\n",
    "   2. `\"left\"`: Left-closed.\n",
    "   3. `\"both\"`: Closed on both sides.\n",
    "   4. `\"neither\"`: Open on both sides.\n"
   ]
  },
  {
   "cell_type": "code",
   "execution_count": null,
   "id": "be36858d",
   "metadata": {},
   "outputs": [],
   "source": [
    "# Arrays\n",
    "\n",
    "# Start and end arrays\n",
    "start = [1, 2, 3, 4]\n",
    "end = [2, 3, 4, 5]\n",
    "\n",
    "# Create IntervalIndex\n",
    "interval_index = pd.IntervalIndex.from_arrays(left=start, right=end, closed='right')\n",
    "\n",
    "print(interval_index)\n"
   ]
  },
  {
   "cell_type": "code",
   "execution_count": null,
   "id": "96f917c3",
   "metadata": {},
   "outputs": [],
   "source": [
    "# tuples\n",
    "## More Intuitive\n",
    "\n",
    "intervals = [(1, 2), (2, 3), (3, 4), (4, 5)]\n",
    "\n",
    "interval_index = pd.IntervalIndex.from_tuples(intervals, closed='right')\n",
    "\n",
    "print(interval_index)\n"
   ]
  },
  {
   "cell_type": "code",
   "execution_count": null,
   "id": "64332ac0",
   "metadata": {},
   "outputs": [],
   "source": [
    "# Equal Intervals\n",
    "\n",
    "interval_index = pd.interval_range(start=0, end=5, periods=5, closed='right')\n",
    "\n",
    "print(interval_index)\n"
   ]
  },
  {
   "cell_type": "code",
   "execution_count": null,
   "id": "0f4dea23",
   "metadata": {},
   "outputs": [],
   "source": [
    "# Breakpoints\n",
    "# Can be used to create interval indices on existing data\n",
    "\n",
    "# Create a simple DataFrame\n",
    "df = pd.DataFrame({'Data': range(10)})\n",
    "\n",
    "# First, create a stepped range\n",
    "breaks = range(0, len(df) + 2, 2)\n",
    "\n",
    "# Use these breakpoints (range) to create an IntervalIndex\n",
    "interval_index = pd.IntervalIndex.from_breaks(breaks, closed='left')\n",
    "\n",
    "# Set the new IntervalIndex as the index for the DataFrame\n",
    "df.index = interval_index\n",
    "\n",
    "print(df)\n"
   ]
  },
  {
   "cell_type": "markdown",
   "id": "84200919",
   "metadata": {},
   "source": [
    "### Resetting Attributes: rename, set_index, reset_index\n",
    "\n",
    "1. If you have a DataFrame, these are the methods to modify it directly.\n",
    "2. Column names:\n",
    "   1. `df.columns = ['a', 'b', 'c']`\n",
    "   2. `df.rename(columns={'A': 'a', 'B': 'b'}, inplace=True)` requires passing a dictionary, and the length doesn't need to match.\n",
    "   3. `df.set_axis(['a', 'b', 'c'], axis=1, inplace=True)` requires the length to match.\n",
    "3. Index:\n",
    "   1. `df.index = ['a', 'b', 'c']`\n",
    "   2. `df.set_index('A', inplace=True)` sets an existing column as the index.\n",
    "   3. `df.reset_index(inplace=True)` resets the index.\n",
    "   4. `df.reindex(['a', 'b', 'c'])` reindexes the DataFrame, and missing values will be accepted.\n"
   ]
  },
  {
   "cell_type": "markdown",
   "id": "3990cb60",
   "metadata": {},
   "source": [
    "## String Operations\n",
    "\n",
    "Use by appending `str`, e.g., `df['A'].str.replace('a', 'b')`.\n"
   ]
  },
  {
   "cell_type": "markdown",
   "id": "6d898405",
   "metadata": {},
   "source": [
    "## Statistics and Calculations"
   ]
  },
  {
   "cell_type": "markdown",
   "id": "cfee1063",
   "metadata": {},
   "source": [
    "#### EDA info()、describe()"
   ]
  },
  {
   "cell_type": "code",
   "execution_count": 6,
   "id": "66bc2ae3",
   "metadata": {},
   "outputs": [
    {
     "name": "stdout",
     "output_type": "stream",
     "text": [
      "Name      object\n",
      "Age        int64\n",
      "City      object\n",
      "Salary     int64\n",
      "dtype: object\n",
      "\n",
      "<class 'pandas.core.frame.DataFrame'>\n",
      "Index: 5 entries, A to E\n",
      "Data columns (total 4 columns):\n",
      " #   Column  Non-Null Count  Dtype \n",
      "---  ------  --------------  ----- \n",
      " 0   Name    5 non-null      object\n",
      " 1   Age     5 non-null      int64 \n",
      " 2   City    5 non-null      object\n",
      " 3   Salary  5 non-null      int64 \n",
      "dtypes: int64(2), object(2)\n",
      "memory usage: 200.0+ bytes\n",
      "None\n",
      "\n"
     ]
    },
    {
     "data": {
      "text/html": [
       "<div>\n",
       "<style scoped>\n",
       "    .dataframe tbody tr th:only-of-type {\n",
       "        vertical-align: middle;\n",
       "    }\n",
       "\n",
       "    .dataframe tbody tr th {\n",
       "        vertical-align: top;\n",
       "    }\n",
       "\n",
       "    .dataframe thead th {\n",
       "        text-align: right;\n",
       "    }\n",
       "</style>\n",
       "<table border=\"1\" class=\"dataframe\">\n",
       "  <thead>\n",
       "    <tr style=\"text-align: right;\">\n",
       "      <th></th>\n",
       "      <th>Age</th>\n",
       "      <th>Salary</th>\n",
       "    </tr>\n",
       "  </thead>\n",
       "  <tbody>\n",
       "    <tr>\n",
       "      <th>count</th>\n",
       "      <td>5.000000</td>\n",
       "      <td>5.000000</td>\n",
       "    </tr>\n",
       "    <tr>\n",
       "      <th>mean</th>\n",
       "      <td>35.000000</td>\n",
       "      <td>80000.000000</td>\n",
       "    </tr>\n",
       "    <tr>\n",
       "      <th>std</th>\n",
       "      <td>7.905694</td>\n",
       "      <td>15811.388301</td>\n",
       "    </tr>\n",
       "    <tr>\n",
       "      <th>min</th>\n",
       "      <td>25.000000</td>\n",
       "      <td>60000.000000</td>\n",
       "    </tr>\n",
       "    <tr>\n",
       "      <th>25%</th>\n",
       "      <td>30.000000</td>\n",
       "      <td>70000.000000</td>\n",
       "    </tr>\n",
       "    <tr>\n",
       "      <th>50%</th>\n",
       "      <td>35.000000</td>\n",
       "      <td>80000.000000</td>\n",
       "    </tr>\n",
       "    <tr>\n",
       "      <th>75%</th>\n",
       "      <td>40.000000</td>\n",
       "      <td>90000.000000</td>\n",
       "    </tr>\n",
       "    <tr>\n",
       "      <th>max</th>\n",
       "      <td>45.000000</td>\n",
       "      <td>100000.000000</td>\n",
       "    </tr>\n",
       "  </tbody>\n",
       "</table>\n",
       "</div>"
      ],
      "text/plain": [
       "             Age         Salary\n",
       "count   5.000000       5.000000\n",
       "mean   35.000000   80000.000000\n",
       "std     7.905694   15811.388301\n",
       "min    25.000000   60000.000000\n",
       "25%    30.000000   70000.000000\n",
       "50%    35.000000   80000.000000\n",
       "75%    40.000000   90000.000000\n",
       "max    45.000000  100000.000000"
      ]
     },
     "execution_count": 6,
     "metadata": {},
     "output_type": "execute_result"
    }
   ],
   "source": [
    "print(df.dtypes)\n",
    "print()\n",
    "print(df.info())\n",
    "print()\n",
    "df.describe()"
   ]
  },
  {
   "cell_type": "markdown",
   "id": "2b690545",
   "metadata": {},
   "source": [
    "## Time Series\n"
   ]
  },
  {
   "cell_type": "markdown",
   "id": "b7e2fe0a",
   "metadata": {},
   "source": [
    "### Date: date_range\n",
    "\n",
    "Accepts datetime objects.\n"
   ]
  },
  {
   "cell_type": "code",
   "execution_count": 46,
   "id": "1762bf65",
   "metadata": {},
   "outputs": [
    {
     "name": "stdout",
     "output_type": "stream",
     "text": [
      "DatetimeIndex(['2024-01-01', '2024-01-02', '2024-01-03'], dtype='datetime64[ns]', freq='D')\n",
      "\n",
      "DatetimeIndex(['2024-01-01', '2024-01-02', '2024-01-03', '2024-01-04',\n",
      "               '2024-01-05', '2024-01-08'],\n",
      "              dtype='datetime64[ns]', freq='B')\n"
     ]
    }
   ],
   "source": [
    "# First, generate a pandas time index. For usage of the freq parameter, refer to the official documentation.\n",
    "\n",
    "rng = pd.date_range(\"1/1/2024\", periods=100, freq=\"D\")\n",
    "\n",
    "print(rng[:3])\n",
    "print()\n",
    "\n",
    "## Generate a time series based on business days, commonly used\n",
    "### You can use datetime to specify start and end\n",
    "### The freq parameter can be an instance of a DateOffset object. Refer to the official documentation for customization.\n",
    "\n",
    "#### Common example: three_second_offset = pd.DateOffset(seconds=3)\n",
    "\n",
    "start = datetime.datetime(2024, 1, 1)\n",
    "end = datetime.datetime(2024, 1, 10)\n",
    "\n",
    "rngb = pd.date_range(start=start, end=end, freq=\"B\")\n",
    "print(rngb[:6])\n"
   ]
  },
  {
   "cell_type": "code",
   "execution_count": null,
   "id": "85dccd77",
   "metadata": {},
   "outputs": [],
   "source": [
    "## Use this time series as the index to generate a series\n",
    "\n",
    "ts = pd.Series(np.random.randint(0, 500, len(rng)), index=rng)\n",
    "print(ts.head(3))\n",
    "print()\n",
    "\n",
    "## Add a timezone to the series\n",
    "ts = ts.tz_localize(\"UTC\")\n",
    "print(ts.head(3))\n",
    "print()\n",
    "\n",
    "## Change the timezone\n",
    "ts = ts.tz_convert(\"US/Eastern\")\n",
    "print(ts.head(3))\n"
   ]
  },
  {
   "cell_type": "code",
   "execution_count": 11,
   "id": "f2439399",
   "metadata": {},
   "outputs": [
    {
     "data": {
      "text/plain": [
       "DatetimeIndex(['2024-01-08', '2024-01-09', '2024-01-10'], dtype='datetime64[ns]', freq=None)"
      ]
     },
     "execution_count": 11,
     "metadata": {},
     "output_type": "execute_result"
    }
   ],
   "source": [
    "## Apply business day offset to rng\n",
    "\n",
    "rng = rng + pd.offsets.BusinessDay(5)\n",
    "rng[:3]"
   ]
  },
  {
   "cell_type": "markdown",
   "id": "8bb1d0bd",
   "metadata": {},
   "source": [
    "### Convert the time column to an index using to_datetime\n"
   ]
  },
  {
   "cell_type": "code",
   "execution_count": 19,
   "id": "31cdae65",
   "metadata": {},
   "outputs": [
    {
     "name": "stdout",
     "output_type": "stream",
     "text": [
      "       Date  Value\n",
      "0  20231011      0\n",
      "1  20231012      1\n",
      "2  20231013      2\n",
      "3  20231014      3\n",
      "4  20231015      4\n",
      "5  20231016      5\n"
     ]
    }
   ],
   "source": [
    "data = {\n",
    "    'Date': [20231011, 20231012, 20231013, 20231014, 20231015, 20231016],\n",
    "    'Value': range(6)\n",
    "}\n",
    "df_int_date = pd.DataFrame(data)\n",
    "print(df_int_date)"
   ]
  },
  {
   "cell_type": "code",
   "execution_count": 21,
   "id": "3eec17ce",
   "metadata": {},
   "outputs": [
    {
     "data": {
      "text/html": [
       "<div>\n",
       "<style scoped>\n",
       "    .dataframe tbody tr th:only-of-type {\n",
       "        vertical-align: middle;\n",
       "    }\n",
       "\n",
       "    .dataframe tbody tr th {\n",
       "        vertical-align: top;\n",
       "    }\n",
       "\n",
       "    .dataframe thead th {\n",
       "        text-align: right;\n",
       "    }\n",
       "</style>\n",
       "<table border=\"1\" class=\"dataframe\">\n",
       "  <thead>\n",
       "    <tr style=\"text-align: right;\">\n",
       "      <th></th>\n",
       "      <th>Value</th>\n",
       "    </tr>\n",
       "    <tr>\n",
       "      <th>Date</th>\n",
       "      <th></th>\n",
       "    </tr>\n",
       "  </thead>\n",
       "  <tbody>\n",
       "    <tr>\n",
       "      <th>2023-10-11</th>\n",
       "      <td>0</td>\n",
       "    </tr>\n",
       "    <tr>\n",
       "      <th>2023-10-12</th>\n",
       "      <td>1</td>\n",
       "    </tr>\n",
       "    <tr>\n",
       "      <th>2023-10-13</th>\n",
       "      <td>2</td>\n",
       "    </tr>\n",
       "    <tr>\n",
       "      <th>2023-10-14</th>\n",
       "      <td>3</td>\n",
       "    </tr>\n",
       "    <tr>\n",
       "      <th>2023-10-15</th>\n",
       "      <td>4</td>\n",
       "    </tr>\n",
       "    <tr>\n",
       "      <th>2023-10-16</th>\n",
       "      <td>5</td>\n",
       "    </tr>\n",
       "  </tbody>\n",
       "</table>\n",
       "</div>"
      ],
      "text/plain": [
       "            Value\n",
       "Date             \n",
       "2023-10-11      0\n",
       "2023-10-12      1\n",
       "2023-10-13      2\n",
       "2023-10-14      3\n",
       "2023-10-15      4\n",
       "2023-10-16      5"
      ]
     },
     "execution_count": 21,
     "metadata": {},
     "output_type": "execute_result"
    }
   ],
   "source": [
    "# Convert the date column to a datetime index\n",
    "## Use the to_datetime method and specify the format parameter.\n",
    "\n",
    "df_int_date['Date'] = pd.to_datetime(df_int_date['Date'], format='%Y%m%d')\n",
    "df_int_date.set_index(df_int_date['Date'], inplace=True)\n",
    "df_int_date.drop(columns='Date', inplace=True)\n",
    "df_int_date"
   ]
  },
  {
   "cell_type": "markdown",
   "id": "f158067b",
   "metadata": {},
   "source": [
    "### Basic Time Series Operations: resample\n"
   ]
  },
  {
   "cell_type": "code",
   "execution_count": 48,
   "id": "aa35da92",
   "metadata": {},
   "outputs": [
    {
     "name": "stdout",
     "output_type": "stream",
     "text": [
      "2024-01-01    419\n",
      "2024-01-02    271\n",
      "2024-01-03    151\n",
      "Freq: B, dtype: int32\n",
      "\n",
      "2024-01-01    419\n",
      "2024-01-02    271\n",
      "2024-01-03    151\n",
      "2024-01-04    443\n",
      "2024-01-05    251\n",
      "             ... \n",
      "2024-03-04    109\n",
      "2024-03-05    387\n",
      "2024-03-06    350\n",
      "2024-03-07    431\n",
      "2024-03-08    257\n",
      "Freq: D, Length: 68, dtype: int32\n",
      "\n",
      "            open  high  low  close\n",
      "2024-01-01   419   443  151    251\n",
      "2024-01-06   331   331  207    207\n",
      "2024-01-11   149   445  149    407\n",
      "2024-01-16   377   472   73     73\n",
      "2024-01-21   454   454   13    172\n",
      "2024-01-26    92   180   92    180\n",
      "2024-01-31    84   394   84    112\n",
      "2024-02-05   491   499   20    107\n",
      "2024-02-10   480   480  451    465\n",
      "2024-02-15   483   483   75     75\n",
      "2024-02-20   223   321  173    277\n",
      "2024-02-25   480   490   19    184\n",
      "2024-03-01   309   387  109    387\n",
      "2024-03-06   350   431  257    257\n"
     ]
    }
   ],
   "source": [
    "# resample\n",
    "## Grouping operation for time series\n",
    "## Pay attention to the opening and closing of time intervals; refer to the official documentation\n",
    "## Passing parameters intuitively is generally fine, you can pass a dateoffset object. Again, if unsure, refer to the official documentation.\n",
    "\n",
    "start = datetime.datetime(2024, 1, 1)\n",
    "end = datetime.datetime(2024, 3, 10)\n",
    "\n",
    "rngb = pd.date_range(start = start, end = end, freq=\"B\")\n",
    "\n",
    "ts = pd.Series(np.random.randint(0, 500, len(rngb)), index=rngb)\n",
    "print(ts.head(3))\n",
    "print()\n",
    "\n",
    "print(ts.resample(\"1d\").sum())\n",
    "print()\n",
    "print(ts.resample(\"5d\").ohlc())"
   ]
  },
  {
   "cell_type": "code",
   "execution_count": 51,
   "id": "8592683a",
   "metadata": {},
   "outputs": [
    {
     "name": "stdout",
     "output_type": "stream",
     "text": [
      "2024-01-01 00:00:00    419.0\n",
      "2024-01-01 12:00:00      NaN\n",
      "2024-01-02 00:00:00    271.0\n",
      "2024-01-02 12:00:00      NaN\n",
      "2024-01-03 00:00:00    151.0\n",
      "                       ...  \n",
      "2024-03-06 00:00:00    350.0\n",
      "2024-03-06 12:00:00      NaN\n",
      "2024-03-07 00:00:00    431.0\n",
      "2024-03-07 12:00:00      NaN\n",
      "2024-03-08 00:00:00    257.0\n",
      "Freq: 12H, Length: 135, dtype: float64\n",
      "\n",
      "使用ffill填充\n",
      "2024-01-01 00:00:00    419.0\n",
      "2024-01-01 12:00:00    419.0\n",
      "2024-01-02 00:00:00    271.0\n",
      "2024-01-02 12:00:00    271.0\n",
      "2024-01-03 00:00:00    151.0\n",
      "                       ...  \n",
      "2024-03-06 00:00:00    350.0\n",
      "2024-03-06 12:00:00    350.0\n",
      "2024-03-07 00:00:00    431.0\n",
      "2024-03-07 12:00:00    431.0\n",
      "2024-03-08 00:00:00    257.0\n",
      "Freq: 12H, Length: 135, dtype: float64\n"
     ]
    }
   ],
   "source": [
    "# Using resample to cause upsampling\n",
    "## Splitting the time series into smaller intervals, effectively increasing the frequency of the time series, resulting in NaN values in between\n",
    "print(ts.resample(\"12H\").asfreq())\n",
    "\n",
    "## Use ffill to fill missing values\n",
    "### You can set the limit parameter to restrict the number of fills\n",
    "### You can set the limit_area parameter to restrict the fill range\n",
    "print()\n",
    "print(ts.resample(\"12H\").asfreq().ffill())\n"
   ]
  },
  {
   "cell_type": "markdown",
   "id": "61d056e3",
   "metadata": {},
   "source": [
    "### Holiday Handling: CustomBusinessDay\n",
    "\n",
    "Refer to [Holiday Calendar](https://pandas.pydata.org/docs/user_guide/timeseries.html#holidays-holiday-calendars) for custom handling of holidays.\n"
   ]
  },
  {
   "cell_type": "code",
   "execution_count": 53,
   "id": "266d5eec",
   "metadata": {},
   "outputs": [],
   "source": [
    "# Simple Customization: CustomBusinessDay\n",
    "## Based on U.S. federal holidays\n",
    "## For Egypt, since the workdays are Sunday to Thursday, customize the weekmask parameter\n",
    "## Then pass in the holidays parameter\n",
    "\n",
    "myb = CustomBusinessDay(weekmask='Sun Mon Tue Wed Thu', holidays=['2018-04-15'])\n",
    "pd.date_range(start='4/1/2018', end='4/30/2018', freq=myb)"
   ]
  },
  {
   "cell_type": "code",
   "execution_count": 52,
   "id": "7c2d56ef",
   "metadata": {},
   "outputs": [],
   "source": [
    "# Custom Calendar, example provided here only\n",
    "\n",
    "from pandas.tseries.holiday import (\n",
    "    Holiday,\n",
    "    USMemorialDay,\n",
    "    AbstractHolidayCalendar,\n",
    "    nearest_workday,\n",
    ")\n",
    "from pandas.tseries.offsets import CustomBusinessDay, Day\n",
    "\n",
    "\n",
    "class ExampleCalendar(AbstractHolidayCalendar):\n",
    "    rules = [\n",
    "        USMemorialDay,\n",
    "\n",
    "        ## Custom holiday rules\n",
    "        ### The observance or offset parameter is used to adjust holidays to the nearest working day\n",
    "        ### If holidays fall on Saturday or Sunday, they will be adjusted to a weekday to avoid losing the holiday.\n",
    "\n",
    "        Holiday(\"My Birthday\", month=7, day=4, observance=nearest_workday),\n",
    "        \n",
    "        Holiday(\n",
    "            \"Columbus Day\",\n",
    "            month=10,\n",
    "            day=1,\n",
    "            offset=pd.DateOffset(weekday=Day(2)),\n",
    "        ),\n",
    "    ]\n",
    "\n",
    "# Instantiate a custom business day and use it\n",
    "\n",
    "my_custom_bday = CustomBusinessDay(calendar=ExampleCalendar())\n",
    "pd.date_range(start=\"1/1/2024\", end=\"1/10/2024\", freq=my_custom_bday)"
   ]
  },
  {
   "cell_type": "markdown",
   "id": "0fdad703",
   "metadata": {},
   "source": [
    "## Rolling Window\n",
    "\n",
    "The rolling() method can be used not only for time series but for any sequence.  \n",
    "Refer to (https://pandas.pydata.org/docs/user_guide/window.html)\n",
    "\n",
    "1. The `win_type` parameter can specify the type of weighted window, such as 'triang', and it accepts scipy window types, like `gaussian`.\n",
    "   - After passing `win_type`, methods like `mean()` will behave differently, with the default being an equal-weighted window.\n",
    "   - If the mathematical method itself requires more parameters, pandas’ built-in methods like `mean` may raise errors.\n",
    "   - For example, when using `win_type='gaussian'`, you need to apply `.apply(lambda x: np.mean(x), std=2)`.\n",
    "2. Applying rolling to time series allows you to use methods like corr() on the series.\n"
   ]
  },
  {
   "cell_type": "code",
   "execution_count": 54,
   "id": "56fd8b90",
   "metadata": {},
   "outputs": [
    {
     "name": "stdout",
     "output_type": "stream",
     "text": [
      "0    0\n",
      "1    1\n",
      "2    2\n",
      "3    3\n",
      "4    4\n",
      "dtype: int64\n",
      "0    NaN\n",
      "1    NaN\n",
      "2    3.0\n",
      "3    6.0\n",
      "4    9.0\n",
      "dtype: float64\n"
     ]
    }
   ],
   "source": [
    "# simple rolling\n",
    "s = pd.Series(range(5))\n",
    "print(s)\n",
    "\n",
    "print(s.rolling(window=3).sum())"
   ]
  },
  {
   "cell_type": "code",
   "execution_count": 59,
   "id": "4576c75b",
   "metadata": {},
   "outputs": [
    {
     "name": "stdout",
     "output_type": "stream",
     "text": [
      "2020-01-01    0\n",
      "Freq: D, dtype: int64\n",
      "2020-01-01    0\n",
      "2020-01-02    1\n",
      "Freq: D, dtype: int64\n",
      "2020-01-01    0\n",
      "2020-01-02    1\n",
      "2020-01-03    2\n",
      "Freq: D, dtype: int64\n",
      "2020-01-02    1\n",
      "2020-01-03    2\n",
      "2020-01-04    3\n",
      "Freq: D, dtype: int64\n",
      "2020-01-03    2\n",
      "2020-01-04    3\n",
      "2020-01-05    4\n",
      "Freq: D, dtype: int64\n"
     ]
    }
   ],
   "source": [
    "# Iteration with rolling\n",
    "\n",
    "for i in s.rolling(window=3):\n",
    "    print(i)\n"
   ]
  },
  {
   "cell_type": "code",
   "execution_count": 60,
   "id": "58080bd7",
   "metadata": {},
   "outputs": [
    {
     "name": "stdout",
     "output_type": "stream",
     "text": [
      "2020-01-01    0\n",
      "2020-01-02    1\n",
      "Freq: D, dtype: int64\n",
      "2020-01-01    0\n",
      "2020-01-02    1\n",
      "2020-01-03    2\n",
      "Freq: D, dtype: int64\n",
      "2020-01-02    1\n",
      "2020-01-03    2\n",
      "2020-01-04    3\n",
      "Freq: D, dtype: int64\n",
      "2020-01-03    2\n",
      "2020-01-04    3\n",
      "2020-01-05    4\n",
      "Freq: D, dtype: int64\n",
      "2020-01-04    3\n",
      "2020-01-05    4\n",
      "Freq: D, dtype: int64\n"
     ]
    }
   ],
   "source": [
    "# Specifying a central window\n",
    "\n",
    "for i in s.rolling(window=3, center=True):\n",
    "    print(i)"
   ]
  },
  {
   "cell_type": "code",
   "execution_count": 56,
   "id": "bb2b91fc",
   "metadata": {},
   "outputs": [
    {
     "data": {
      "text/plain": [
       "2020-01-01    0.0\n",
       "2020-01-02    1.0\n",
       "2020-01-03    3.0\n",
       "2020-01-04    5.0\n",
       "2020-01-05    7.0\n",
       "Freq: D, dtype: float64"
      ]
     },
     "execution_count": 56,
     "metadata": {},
     "output_type": "execute_result"
    }
   ],
   "source": [
    "# Windows can specify dateoffset\n",
    "\n",
    "s = pd.Series(range(5), index=pd.date_range('2020-01-01', periods=5, freq='1D'))\n",
    "\n",
    "s.rolling(window='2D').sum()"
   ]
  },
  {
   "cell_type": "code",
   "execution_count": 57,
   "id": "b04c5fa2",
   "metadata": {},
   "outputs": [
    {
     "data": {
      "text/html": [
       "<div>\n",
       "<style scoped>\n",
       "    .dataframe tbody tr th:only-of-type {\n",
       "        vertical-align: middle;\n",
       "    }\n",
       "\n",
       "    .dataframe tbody tr th {\n",
       "        vertical-align: top;\n",
       "    }\n",
       "\n",
       "    .dataframe thead th {\n",
       "        text-align: right;\n",
       "    }\n",
       "</style>\n",
       "<table border=\"1\" class=\"dataframe\">\n",
       "  <thead>\n",
       "    <tr style=\"text-align: right;\">\n",
       "      <th></th>\n",
       "      <th>0</th>\n",
       "      <th>1</th>\n",
       "      <th>2</th>\n",
       "    </tr>\n",
       "  </thead>\n",
       "  <tbody>\n",
       "    <tr>\n",
       "      <th>0</th>\n",
       "      <td>1.000000</td>\n",
       "      <td>2.000000</td>\n",
       "      <td>1.0</td>\n",
       "    </tr>\n",
       "    <tr>\n",
       "      <th>1</th>\n",
       "      <td>1.800000</td>\n",
       "      <td>2.000000</td>\n",
       "      <td>1.0</td>\n",
       "    </tr>\n",
       "    <tr>\n",
       "      <th>2</th>\n",
       "      <td>3.333333</td>\n",
       "      <td>2.333333</td>\n",
       "      <td>1.0</td>\n",
       "    </tr>\n",
       "    <tr>\n",
       "      <th>3</th>\n",
       "      <td>1.555556</td>\n",
       "      <td>7.000000</td>\n",
       "      <td>1.0</td>\n",
       "    </tr>\n",
       "  </tbody>\n",
       "</table>\n",
       "</div>"
      ],
      "text/plain": [
       "          0         1    2\n",
       "0  1.000000  2.000000  1.0\n",
       "1  1.800000  2.000000  1.0\n",
       "2  3.333333  2.333333  1.0\n",
       "3  1.555556  7.000000  1.0"
      ]
     },
     "execution_count": 57,
     "metadata": {},
     "output_type": "execute_result"
    }
   ],
   "source": [
    "# By specifying method='table' and using the apply method, complex rolling operations can be achieved\n",
    "## When method is 'table', the engine must be set to numba\n",
    "## Below is an example\n",
    "### Extremely slow performance\n",
    "\n",
    "def weighted_mean(x):\n",
    "    arr = np.ones((1, x.shape[1]))\n",
    "    arr[:, :2] = (x[:, :2] * x[:, 2]).sum(axis=0) / x[:, 2].sum()\n",
    "    return arr\n",
    "\n",
    "df = pd.DataFrame([[1, 2, 0.6], [2, 3, 0.4], [3, 4, 0.2], [4, 5, 0.7]])\n",
    "\n",
    "df.rolling(2, method=\"table\", min_periods=0).apply(weighted_mean, raw=True, engine=\"numba\")"
   ]
  },
  {
   "cell_type": "markdown",
   "id": "86cb815e",
   "metadata": {},
   "source": [
    "## Use Case\n",
    "### Create a difference sequence\n"
   ]
  },
  {
   "cell_type": "code",
   "execution_count": 62,
   "id": "1847b143",
   "metadata": {},
   "outputs": [
    {
     "name": "stdout",
     "output_type": "stream",
     "text": [
      "0    NaN\n",
      "1    1.0\n",
      "2    2.0\n",
      "3    3.0\n",
      "4    4.0\n",
      "dtype: float64\n"
     ]
    }
   ],
   "source": [
    "# Create example Series\n",
    "s = pd.Series([1, 2, 4, 7, 11])\n",
    "\n",
    "# Calculate first-order difference\n",
    "diff_series = s.diff(periods=1)\n",
    "\n",
    "print(diff_series)\n"
   ]
  },
  {
   "cell_type": "markdown",
   "id": "eb9dcdcc",
   "metadata": {},
   "source": [
    "### Filling Values, Including Filling with 0\n",
    "\n",
    "1. Using custom rules can prevent strings' NaN values from being replaced, commonly used.\n",
    "2. However, fillna() offers more filling methods. You can specify the `method=` parameter, such as `ffill` (forward fill) or `bfill` (backward fill), for forward or backward filling.\n"
   ]
  },
  {
   "cell_type": "code",
   "execution_count": 10,
   "id": "66e38214",
   "metadata": {},
   "outputs": [
    {
     "name": "stdout",
     "output_type": "stream",
     "text": [
      "   numeric_column string_column\n",
      "0             1.0         apple\n",
      "1             NaN           NaN\n",
      "2             3.0        banana\n"
     ]
    }
   ],
   "source": [
    "# Create an example DataFrame containing NaN values\n",
    "\n",
    "df = pd.DataFrame({\n",
    "    'numeric_column': [1, np.nan, 3],\n",
    "    'string_column': ['apple', np.nan, 'banana']\n",
    "})\n",
    "print(df)"
   ]
  },
  {
   "cell_type": "code",
   "execution_count": 11,
   "id": "76b5364a",
   "metadata": {},
   "outputs": [
    {
     "name": "stdout",
     "output_type": "stream",
     "text": [
      "   numeric_column string_column\n",
      "0             1.0         apple\n",
      "1             0.0           NaN\n",
      "2             3.0        banana\n"
     ]
    }
   ],
   "source": [
    "# Define a custom function to decide the fill value based on the column's data type\n",
    "def fillna_custom(x):\n",
    "    if x.dtype == float or x.dtype == int:\n",
    "        return x.fillna(0)\n",
    "    else:\n",
    "        return x\n",
    "\n",
    "# Apply the custom function using the apply method\n",
    "df_customfill = df.apply(fillna_custom)\n",
    "\n",
    "print(df_customfill)\n"
   ]
  },
  {
   "cell_type": "code",
   "execution_count": 12,
   "id": "8dcc9f50",
   "metadata": {},
   "outputs": [
    {
     "name": "stdout",
     "output_type": "stream",
     "text": [
      "   numeric_column string_column\n",
      "0             1.0         apple\n",
      "1             NaN           NaN\n",
      "2             3.0        banana\n",
      "   numeric_column string_column\n",
      "0             1.0         apple\n",
      "1             0.0             0\n",
      "2             3.0        banana\n"
     ]
    }
   ],
   "source": [
    "# Or simply use fillna()\n",
    "df = pd.DataFrame({\n",
    "    'numeric_column': [1, np.nan, 3],\n",
    "    'string_column': ['apple', np.nan, 'banana']\n",
    "})\n",
    "print(df)\n",
    "\n",
    "df.fillna(0, inplace=True)\n",
    "print(df)\n"
   ]
  },
  {
   "cell_type": "markdown",
   "id": "b145d37e",
   "metadata": {},
   "source": [
    "### Interpolation\n",
    "\n",
    "Use the `interpolate()` method.\n",
    "\n",
    "1. 'linear': Linear interpolation.\n",
    "2. 'time': Time-based interpolation (particularly useful for time indices).\n",
    "3. 'index', 'values': Linear interpolation using the index.\n",
    "4. 'pad', 'ffill': Forward fill.\n",
    "5. 'bfill', 'backfill': Backward fill.\n",
    "6. 'nearest': Nearest neighbor interpolation.\n",
    "7. 'polynomial': Polynomial interpolation, requires specifying the order (degree of the polynomial).\n",
    "8. 'spline': Spline interpolation, requires specifying the order (degree of the spline).\n",
    "9. Or specify scipy's interpolation methods, such as 'quadratic', 'cubic', etc.\n"
   ]
  },
  {
   "cell_type": "code",
   "execution_count": 3,
   "id": "c41f1883",
   "metadata": {},
   "outputs": [
    {
     "name": "stdout",
     "output_type": "stream",
     "text": [
      "   ID  Temperature  Humidity Location\n",
      "0   1         22.5      60.0    Room1\n",
      "1   2         21.0       NaN    Room2\n",
      "2   3          NaN      65.0    Room1\n",
      "3   4         23.5      70.0    Room2\n",
      "4   5         24.0       NaN      NaN\n"
     ]
    }
   ],
   "source": [
    "\n",
    "# Example DataFrame\n",
    "df = pd.DataFrame({\n",
    "    'ID': range(1, 6),\n",
    "    'Temperature': [22.5, 21.0, np.nan, 23.5, 24.0],\n",
    "    'Humidity': [60, np.nan, 65, 70, np.nan],\n",
    "    'Location': ['Room1', 'Room2', 'Room1', 'Room2', np.nan]\n",
    "})\n",
    "\n",
    "print(df)\n"
   ]
  },
  {
   "cell_type": "code",
   "execution_count": 6,
   "id": "d5af9a4d",
   "metadata": {},
   "outputs": [
    {
     "name": "stdout",
     "output_type": "stream",
     "text": [
      "   ID  Temperature  Humidity Location\n",
      "0   1        22.50      60.0    Room1\n",
      "1   2        21.00       NaN    Room2\n",
      "2   3        22.25      65.0    Room1\n",
      "3   4        23.50      70.0    Room2\n",
      "4   5        24.00       NaN      NaN\n"
     ]
    }
   ],
   "source": [
    "# The limit parameter restricts the number of consecutive interpolations.\n",
    "\n",
    "df[\"Temperature\"].interpolate(method=\"linear\", inplace=True,limit=1)\n",
    "print(df)"
   ]
  },
  {
   "cell_type": "markdown",
   "id": "f4dc965d",
   "metadata": {},
   "source": [
    "### Remove Duplicate Rows and Columns\n"
   ]
  },
  {
   "cell_type": "code",
   "execution_count": 14,
   "id": "9230145b",
   "metadata": {},
   "outputs": [
    {
     "name": "stdout",
     "output_type": "stream",
     "text": [
      "   A  B  C\n",
      "0  1  1  x\n",
      "1  1  1  x\n",
      "2  2  2  y\n",
      "3  2  2  z\n",
      "4  3  3  z\n"
     ]
    }
   ],
   "source": [
    "import pandas as pd\n",
    "\n",
    "# Example DataFrame\n",
    "df = pd.DataFrame({\n",
    "    'A': [1, 1, 2, 2, 3],\n",
    "    'B': [1, 1, 2, 2, 3],\n",
    "    'C': ['x', 'x', 'y', 'z', 'z']\n",
    "})\n",
    "print(df)\n"
   ]
  },
  {
   "cell_type": "code",
   "execution_count": 10,
   "id": "9e7482af",
   "metadata": {},
   "outputs": [
    {
     "name": "stdout",
     "output_type": "stream",
     "text": [
      "   A  B  C\n",
      "0  1  1  x\n",
      "2  2  2  y\n",
      "3  2  3  z\n",
      "4  3  3  z\n"
     ]
    }
   ],
   "source": [
    "# Remove duplicate rows\n",
    "# Use keep='first' to remove the first occurrence of duplicate rows, and use keep='last' to remove the last occurrence.\n",
    "# Use keep=False to remove all duplicate rows.\n",
    "\n",
    "df = df.drop_duplicates(keep='first')\n",
    "\n",
    "print(df)"
   ]
  },
  {
   "cell_type": "code",
   "execution_count": 15,
   "id": "0a0c1ec1",
   "metadata": {},
   "outputs": [
    {
     "name": "stdout",
     "output_type": "stream",
     "text": [
      "   A  C\n",
      "0  1  x\n",
      "1  1  x\n",
      "2  2  y\n",
      "3  2  z\n",
      "4  3  z\n"
     ]
    }
   ],
   "source": [
    "# Remove duplicate columns\n",
    "# Transpose the DataFrame, remove duplicate rows (which now correspond to the original columns), and then transpose it back.\n",
    "\n",
    "df = df.T.drop_duplicates().T\n",
    "\n",
    "print(df)\n"
   ]
  },
  {
   "cell_type": "markdown",
   "id": "a07493f0",
   "metadata": {},
   "source": [
    "### Remove Invalid Values\n",
    "\n",
    "Use the dropna() method.\n",
    "\n",
    "1. Common parameters include axis, how, thresh, subset, and inplace.\n",
    "2. axis: 0 indicates row deletion, 1 indicates column deletion. Default is 0.\n",
    "3. how: 'any' means delete if any NaN exists, 'all' means delete only if all values are NaN. Default is 'any'.\n",
    "4. thresh: Integer, retains rows with at least thresh non-NaN values.\n",
    "5. subset: List, specifies columns in which to check for NaN.\n",
    "6. inplace: Boolean, determines whether to modify the original data in place.\n"
   ]
  },
  {
   "cell_type": "code",
   "execution_count": null,
   "id": "fd140fc6",
   "metadata": {},
   "outputs": [],
   "source": [
    "import pandas as pd\n",
    "import numpy as np\n",
    "\n",
    "# Create a DataFrame containing NaN values\n",
    "data = {'Name': ['Alex', 'Bob', 'Clarke', 'Dave'],\n",
    "        'Age': [25, np.nan, 22, 30],\n",
    "        'Gender': ['Male', 'Male', np.nan, 'Male']}\n",
    "df = pd.DataFrame(data)\n",
    "\n",
    "print(\"Original DataFrame:\")\n",
    "print(df)\n",
    "\n",
    "# Use dropna() to delete rows that contain any NaN values\n",
    "df_cleaned = df.dropna()\n",
    "\n",
    "print(\"\\nDataFrame after dropping rows with NaN values:\")\n",
    "print(df_cleaned)\n"
   ]
  },
  {
   "cell_type": "markdown",
   "id": "b07c7a06",
   "metadata": {},
   "source": [
    "## Key Points \n",
    "\n",
    "1. General rule: **Single value** uses single brackets, **multiple values** use double brackets.\n",
    "2. Wherever an index can be passed, slicing is generally allowed.\n",
    "3. Both names and numbers can be used for slicing.\n",
    "4. Behavior of df[]:\n",
    "   - To select a column, use the column name, e.g., `df['A']` will select column A and return a series; `df[['A', 'B']]` will select columns A and B and return a DataFrame.\n",
    "   - To select rows, you can either use slicing or pass a boolean series; e.g., `df[df['A'] > 0]` will return all rows where column A is greater than 0.\n",
    "   - If you pass a boolean DataFrame, like `df[df > 0]`, it will return a DataFrame where all places that don’t meet the condition are filled with NaN.\n",
    "5. apply() is the most commonly used method for custom operations. For DataFrames, `x` defaults to operating on columns; for series, `x` defaults to operating on elements.\n",
    "   - applymap() applies `x` to each element of the DataFrame by default.\n"
   ]
  }
 ],
 "metadata": {
  "kernelspec": {
   "display_name": "Python 3",
   "language": "python",
   "name": "python3"
  },
  "language_info": {
   "codemirror_mode": {
    "name": "ipython",
    "version": 3
   },
   "file_extension": ".py",
   "mimetype": "text/x-python",
   "name": "python",
   "nbconvert_exporter": "python",
   "pygments_lexer": "ipython3",
   "version": "3.11.7"
  }
 },
 "nbformat": 4,
 "nbformat_minor": 5
}
